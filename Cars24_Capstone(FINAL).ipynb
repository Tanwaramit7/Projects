{
 "cells": [
  {
   "cell_type": "markdown",
   "id": "5f24fa5e",
   "metadata": {},
   "source": [
    "## Libraries"
   ]
  },
  {
   "cell_type": "code",
   "execution_count": 1,
   "id": "6565906a",
   "metadata": {},
   "outputs": [],
   "source": [
    "from bs4 import BeautifulSoup\n",
    "import requests\n",
    "import pandas as pd\n",
    "import numpy as np\n",
    "import seaborn as sns\n",
    "import matplotlib.pyplot as plt\n",
    "\n",
    "from sklearn.metrics import mean_squared_error,mean_absolute_error,r2_score\n",
    "from sklearn.linear_model import LinearRegression,Ridge, Lasso\n",
    "from sklearn.tree import DecisionTreeRegressor\n",
    "from sklearn.neighbors import KNeighborsRegressor\n",
    "from sklearn.ensemble import RandomForestRegressor\n",
    "from xgboost import XGBRegressor"
   ]
  },
  {
   "cell_type": "markdown",
   "id": "c489d89f",
   "metadata": {},
   "source": [
    "#### Read csv "
   ]
  },
  {
   "cell_type": "code",
   "execution_count": 2,
   "id": "3724bf44",
   "metadata": {
    "scrolled": true
   },
   "outputs": [
    {
     "data": {
      "text/html": [
       "<div>\n",
       "<style scoped>\n",
       "    .dataframe tbody tr th:only-of-type {\n",
       "        vertical-align: middle;\n",
       "    }\n",
       "\n",
       "    .dataframe tbody tr th {\n",
       "        vertical-align: top;\n",
       "    }\n",
       "\n",
       "    .dataframe thead th {\n",
       "        text-align: right;\n",
       "    }\n",
       "</style>\n",
       "<table border=\"1\" class=\"dataframe\">\n",
       "  <thead>\n",
       "    <tr style=\"text-align: right;\">\n",
       "      <th></th>\n",
       "      <th>Unnamed: 0</th>\n",
       "      <th>Company</th>\n",
       "      <th>Car_Name</th>\n",
       "      <th>Engine_Version</th>\n",
       "      <th>km_driven</th>\n",
       "      <th>Owner</th>\n",
       "      <th>mnf_year</th>\n",
       "      <th>Fuel_Type</th>\n",
       "      <th>Price</th>\n",
       "      <th>Emi</th>\n",
       "    </tr>\n",
       "  </thead>\n",
       "  <tbody>\n",
       "    <tr>\n",
       "      <th>0</th>\n",
       "      <td>0</td>\n",
       "      <td>Maruti</td>\n",
       "      <td>Swift</td>\n",
       "      <td>VXI AMT Automatic</td>\n",
       "      <td>34,460 km</td>\n",
       "      <td>1st</td>\n",
       "      <td>2018.0</td>\n",
       "      <td>Petrol</td>\n",
       "      <td>₹6,16,399</td>\n",
       "      <td>₹12,051/month</td>\n",
       "    </tr>\n",
       "    <tr>\n",
       "      <th>1</th>\n",
       "      <td>1</td>\n",
       "      <td>Mahindra</td>\n",
       "      <td>Thar</td>\n",
       "      <td>LX D 4*4 MT HT Manual</td>\n",
       "      <td>10,292 km</td>\n",
       "      <td>1st</td>\n",
       "      <td>2021.0</td>\n",
       "      <td>Diesel</td>\n",
       "      <td>₹16,73,799</td>\n",
       "      <td>₹32,723/month</td>\n",
       "    </tr>\n",
       "    <tr>\n",
       "      <th>2</th>\n",
       "      <td>2</td>\n",
       "      <td>Maruti</td>\n",
       "      <td>Swift</td>\n",
       "      <td>LXI Manual</td>\n",
       "      <td>13,780 km</td>\n",
       "      <td>1st</td>\n",
       "      <td>2019.0</td>\n",
       "      <td>Petrol</td>\n",
       "      <td>₹5,58,699</td>\n",
       "      <td>₹10,923/month</td>\n",
       "    </tr>\n",
       "    <tr>\n",
       "      <th>3</th>\n",
       "      <td>3</td>\n",
       "      <td>Maruti</td>\n",
       "      <td>Swift</td>\n",
       "      <td>LXI Manual</td>\n",
       "      <td>22,900 km</td>\n",
       "      <td>1st</td>\n",
       "      <td>2020.0</td>\n",
       "      <td>Petrol</td>\n",
       "      <td>₹5,58,499</td>\n",
       "      <td>₹10,919/month</td>\n",
       "    </tr>\n",
       "    <tr>\n",
       "      <th>4</th>\n",
       "      <td>4</td>\n",
       "      <td>Maruti</td>\n",
       "      <td>Swift</td>\n",
       "      <td>LXI Manual</td>\n",
       "      <td>17,435 km</td>\n",
       "      <td>1st</td>\n",
       "      <td>2020.0</td>\n",
       "      <td>Petrol</td>\n",
       "      <td>₹5,92,499</td>\n",
       "      <td>₹11,583/month</td>\n",
       "    </tr>\n",
       "    <tr>\n",
       "      <th>...</th>\n",
       "      <td>...</td>\n",
       "      <td>...</td>\n",
       "      <td>...</td>\n",
       "      <td>...</td>\n",
       "      <td>...</td>\n",
       "      <td>...</td>\n",
       "      <td>...</td>\n",
       "      <td>...</td>\n",
       "      <td>...</td>\n",
       "      <td>...</td>\n",
       "    </tr>\n",
       "    <tr>\n",
       "      <th>793</th>\n",
       "      <td>793</td>\n",
       "      <td>Maruti</td>\n",
       "      <td>Alto K10</td>\n",
       "      <td>VXI Manual</td>\n",
       "      <td>7,427 km</td>\n",
       "      <td>1st</td>\n",
       "      <td>2019.0</td>\n",
       "      <td>Petrol</td>\n",
       "      <td>₹4,16,999</td>\n",
       "      <td>₹8,152/month</td>\n",
       "    </tr>\n",
       "    <tr>\n",
       "      <th>794</th>\n",
       "      <td>794</td>\n",
       "      <td>Hyundai</td>\n",
       "      <td>Elite i20</td>\n",
       "      <td>SPORTZ 1.2 Manual</td>\n",
       "      <td>73,802 km</td>\n",
       "      <td>1st</td>\n",
       "      <td>2015.0</td>\n",
       "      <td>Petrol</td>\n",
       "      <td>₹5,34,899</td>\n",
       "      <td>₹10,457/month</td>\n",
       "    </tr>\n",
       "    <tr>\n",
       "      <th>795</th>\n",
       "      <td>795</td>\n",
       "      <td>Hyundai</td>\n",
       "      <td>GRAND I10 NIOS</td>\n",
       "      <td>1.2 Kappa Sports MT Manual</td>\n",
       "      <td>14,972 km</td>\n",
       "      <td>1st</td>\n",
       "      <td>2019.0</td>\n",
       "      <td>Petrol</td>\n",
       "      <td>₹5,96,099</td>\n",
       "      <td>₹11,654/month</td>\n",
       "    </tr>\n",
       "    <tr>\n",
       "      <th>796</th>\n",
       "      <td>796</td>\n",
       "      <td>Hyundai</td>\n",
       "      <td>Eon</td>\n",
       "      <td>ERA PLUS Manual</td>\n",
       "      <td>21,813 km</td>\n",
       "      <td>2nd</td>\n",
       "      <td>2016.0</td>\n",
       "      <td>Petrol</td>\n",
       "      <td>₹2,82,399</td>\n",
       "      <td>₹5,521/month</td>\n",
       "    </tr>\n",
       "    <tr>\n",
       "      <th>797</th>\n",
       "      <td>797</td>\n",
       "      <td>Hyundai</td>\n",
       "      <td>Elite i20</td>\n",
       "      <td>ASTA 1.2 Manual</td>\n",
       "      <td>37,502 km</td>\n",
       "      <td>1st</td>\n",
       "      <td>2017.0</td>\n",
       "      <td>Petrol</td>\n",
       "      <td>₹5,95,099</td>\n",
       "      <td>₹11,634/month</td>\n",
       "    </tr>\n",
       "  </tbody>\n",
       "</table>\n",
       "<p>798 rows × 10 columns</p>\n",
       "</div>"
      ],
      "text/plain": [
       "     Unnamed: 0   Company        Car_Name              Engine_Version  \\\n",
       "0             0    Maruti           Swift           VXI AMT Automatic   \n",
       "1             1  Mahindra            Thar       LX D 4*4 MT HT Manual   \n",
       "2             2    Maruti           Swift                  LXI Manual   \n",
       "3             3    Maruti           Swift                  LXI Manual   \n",
       "4             4    Maruti           Swift                  LXI Manual   \n",
       "..          ...       ...             ...                         ...   \n",
       "793         793    Maruti        Alto K10                  VXI Manual   \n",
       "794         794   Hyundai       Elite i20           SPORTZ 1.2 Manual   \n",
       "795         795   Hyundai  GRAND I10 NIOS  1.2 Kappa Sports MT Manual   \n",
       "796         796   Hyundai             Eon             ERA PLUS Manual   \n",
       "797         797   Hyundai       Elite i20             ASTA 1.2 Manual   \n",
       "\n",
       "     km_driven Owner  mnf_year Fuel_Type       Price            Emi  \n",
       "0    34,460 km   1st    2018.0    Petrol   ₹6,16,399  ₹12,051/month  \n",
       "1    10,292 km   1st    2021.0    Diesel  ₹16,73,799  ₹32,723/month  \n",
       "2    13,780 km   1st    2019.0    Petrol   ₹5,58,699  ₹10,923/month  \n",
       "3    22,900 km   1st    2020.0    Petrol   ₹5,58,499  ₹10,919/month  \n",
       "4    17,435 km   1st    2020.0    Petrol   ₹5,92,499  ₹11,583/month  \n",
       "..         ...   ...       ...       ...         ...            ...  \n",
       "793   7,427 km   1st    2019.0    Petrol   ₹4,16,999   ₹8,152/month  \n",
       "794  73,802 km   1st    2015.0    Petrol   ₹5,34,899  ₹10,457/month  \n",
       "795  14,972 km   1st    2019.0    Petrol   ₹5,96,099  ₹11,654/month  \n",
       "796  21,813 km   2nd    2016.0    Petrol   ₹2,82,399   ₹5,521/month  \n",
       "797  37,502 km   1st    2017.0    Petrol   ₹5,95,099  ₹11,634/month  \n",
       "\n",
       "[798 rows x 10 columns]"
      ]
     },
     "execution_count": 2,
     "metadata": {},
     "output_type": "execute_result"
    }
   ],
   "source": [
    "df10=pd.read_csv('cars24_data.csv')\n",
    "df10"
   ]
  },
  {
   "cell_type": "markdown",
   "id": "df1df21f",
   "metadata": {},
   "source": [
    "##  Data Handling"
   ]
  },
  {
   "cell_type": "code",
   "execution_count": 3,
   "id": "490b8919",
   "metadata": {},
   "outputs": [],
   "source": [
    "df10.drop('Unnamed: 0',axis=1,inplace=True)"
   ]
  },
  {
   "cell_type": "code",
   "execution_count": 4,
   "id": "c9be3541",
   "metadata": {
    "scrolled": true
   },
   "outputs": [
    {
     "data": {
      "text/html": [
       "<div>\n",
       "<style scoped>\n",
       "    .dataframe tbody tr th:only-of-type {\n",
       "        vertical-align: middle;\n",
       "    }\n",
       "\n",
       "    .dataframe tbody tr th {\n",
       "        vertical-align: top;\n",
       "    }\n",
       "\n",
       "    .dataframe thead th {\n",
       "        text-align: right;\n",
       "    }\n",
       "</style>\n",
       "<table border=\"1\" class=\"dataframe\">\n",
       "  <thead>\n",
       "    <tr style=\"text-align: right;\">\n",
       "      <th></th>\n",
       "      <th>Company</th>\n",
       "      <th>Car_Name</th>\n",
       "      <th>Engine_Version</th>\n",
       "      <th>km_driven</th>\n",
       "      <th>Owner</th>\n",
       "      <th>mnf_year</th>\n",
       "      <th>Fuel_Type</th>\n",
       "      <th>Price</th>\n",
       "      <th>Emi</th>\n",
       "    </tr>\n",
       "  </thead>\n",
       "  <tbody>\n",
       "    <tr>\n",
       "      <th>0</th>\n",
       "      <td>Maruti</td>\n",
       "      <td>Swift</td>\n",
       "      <td>VXI AMT Automatic</td>\n",
       "      <td>34,460 km</td>\n",
       "      <td>1st</td>\n",
       "      <td>2018.0</td>\n",
       "      <td>Petrol</td>\n",
       "      <td>₹6,16,399</td>\n",
       "      <td>₹12,051/month</td>\n",
       "    </tr>\n",
       "    <tr>\n",
       "      <th>1</th>\n",
       "      <td>Mahindra</td>\n",
       "      <td>Thar</td>\n",
       "      <td>LX D 4*4 MT HT Manual</td>\n",
       "      <td>10,292 km</td>\n",
       "      <td>1st</td>\n",
       "      <td>2021.0</td>\n",
       "      <td>Diesel</td>\n",
       "      <td>₹16,73,799</td>\n",
       "      <td>₹32,723/month</td>\n",
       "    </tr>\n",
       "    <tr>\n",
       "      <th>2</th>\n",
       "      <td>Maruti</td>\n",
       "      <td>Swift</td>\n",
       "      <td>LXI Manual</td>\n",
       "      <td>13,780 km</td>\n",
       "      <td>1st</td>\n",
       "      <td>2019.0</td>\n",
       "      <td>Petrol</td>\n",
       "      <td>₹5,58,699</td>\n",
       "      <td>₹10,923/month</td>\n",
       "    </tr>\n",
       "    <tr>\n",
       "      <th>3</th>\n",
       "      <td>Maruti</td>\n",
       "      <td>Swift</td>\n",
       "      <td>LXI Manual</td>\n",
       "      <td>22,900 km</td>\n",
       "      <td>1st</td>\n",
       "      <td>2020.0</td>\n",
       "      <td>Petrol</td>\n",
       "      <td>₹5,58,499</td>\n",
       "      <td>₹10,919/month</td>\n",
       "    </tr>\n",
       "    <tr>\n",
       "      <th>4</th>\n",
       "      <td>Maruti</td>\n",
       "      <td>Swift</td>\n",
       "      <td>LXI Manual</td>\n",
       "      <td>17,435 km</td>\n",
       "      <td>1st</td>\n",
       "      <td>2020.0</td>\n",
       "      <td>Petrol</td>\n",
       "      <td>₹5,92,499</td>\n",
       "      <td>₹11,583/month</td>\n",
       "    </tr>\n",
       "    <tr>\n",
       "      <th>...</th>\n",
       "      <td>...</td>\n",
       "      <td>...</td>\n",
       "      <td>...</td>\n",
       "      <td>...</td>\n",
       "      <td>...</td>\n",
       "      <td>...</td>\n",
       "      <td>...</td>\n",
       "      <td>...</td>\n",
       "      <td>...</td>\n",
       "    </tr>\n",
       "    <tr>\n",
       "      <th>793</th>\n",
       "      <td>Maruti</td>\n",
       "      <td>Alto K10</td>\n",
       "      <td>VXI Manual</td>\n",
       "      <td>7,427 km</td>\n",
       "      <td>1st</td>\n",
       "      <td>2019.0</td>\n",
       "      <td>Petrol</td>\n",
       "      <td>₹4,16,999</td>\n",
       "      <td>₹8,152/month</td>\n",
       "    </tr>\n",
       "    <tr>\n",
       "      <th>794</th>\n",
       "      <td>Hyundai</td>\n",
       "      <td>Elite i20</td>\n",
       "      <td>SPORTZ 1.2 Manual</td>\n",
       "      <td>73,802 km</td>\n",
       "      <td>1st</td>\n",
       "      <td>2015.0</td>\n",
       "      <td>Petrol</td>\n",
       "      <td>₹5,34,899</td>\n",
       "      <td>₹10,457/month</td>\n",
       "    </tr>\n",
       "    <tr>\n",
       "      <th>795</th>\n",
       "      <td>Hyundai</td>\n",
       "      <td>GRAND I10 NIOS</td>\n",
       "      <td>1.2 Kappa Sports MT Manual</td>\n",
       "      <td>14,972 km</td>\n",
       "      <td>1st</td>\n",
       "      <td>2019.0</td>\n",
       "      <td>Petrol</td>\n",
       "      <td>₹5,96,099</td>\n",
       "      <td>₹11,654/month</td>\n",
       "    </tr>\n",
       "    <tr>\n",
       "      <th>796</th>\n",
       "      <td>Hyundai</td>\n",
       "      <td>Eon</td>\n",
       "      <td>ERA PLUS Manual</td>\n",
       "      <td>21,813 km</td>\n",
       "      <td>2nd</td>\n",
       "      <td>2016.0</td>\n",
       "      <td>Petrol</td>\n",
       "      <td>₹2,82,399</td>\n",
       "      <td>₹5,521/month</td>\n",
       "    </tr>\n",
       "    <tr>\n",
       "      <th>797</th>\n",
       "      <td>Hyundai</td>\n",
       "      <td>Elite i20</td>\n",
       "      <td>ASTA 1.2 Manual</td>\n",
       "      <td>37,502 km</td>\n",
       "      <td>1st</td>\n",
       "      <td>2017.0</td>\n",
       "      <td>Petrol</td>\n",
       "      <td>₹5,95,099</td>\n",
       "      <td>₹11,634/month</td>\n",
       "    </tr>\n",
       "  </tbody>\n",
       "</table>\n",
       "<p>798 rows × 9 columns</p>\n",
       "</div>"
      ],
      "text/plain": [
       "      Company        Car_Name              Engine_Version  km_driven Owner  \\\n",
       "0      Maruti           Swift           VXI AMT Automatic  34,460 km   1st   \n",
       "1    Mahindra            Thar       LX D 4*4 MT HT Manual  10,292 km   1st   \n",
       "2      Maruti           Swift                  LXI Manual  13,780 km   1st   \n",
       "3      Maruti           Swift                  LXI Manual  22,900 km   1st   \n",
       "4      Maruti           Swift                  LXI Manual  17,435 km   1st   \n",
       "..        ...             ...                         ...        ...   ...   \n",
       "793    Maruti        Alto K10                  VXI Manual   7,427 km   1st   \n",
       "794   Hyundai       Elite i20           SPORTZ 1.2 Manual  73,802 km   1st   \n",
       "795   Hyundai  GRAND I10 NIOS  1.2 Kappa Sports MT Manual  14,972 km   1st   \n",
       "796   Hyundai             Eon             ERA PLUS Manual  21,813 km   2nd   \n",
       "797   Hyundai       Elite i20             ASTA 1.2 Manual  37,502 km   1st   \n",
       "\n",
       "     mnf_year Fuel_Type       Price            Emi  \n",
       "0      2018.0    Petrol   ₹6,16,399  ₹12,051/month  \n",
       "1      2021.0    Diesel  ₹16,73,799  ₹32,723/month  \n",
       "2      2019.0    Petrol   ₹5,58,699  ₹10,923/month  \n",
       "3      2020.0    Petrol   ₹5,58,499  ₹10,919/month  \n",
       "4      2020.0    Petrol   ₹5,92,499  ₹11,583/month  \n",
       "..        ...       ...         ...            ...  \n",
       "793    2019.0    Petrol   ₹4,16,999   ₹8,152/month  \n",
       "794    2015.0    Petrol   ₹5,34,899  ₹10,457/month  \n",
       "795    2019.0    Petrol   ₹5,96,099  ₹11,654/month  \n",
       "796    2016.0    Petrol   ₹2,82,399   ₹5,521/month  \n",
       "797    2017.0    Petrol   ₹5,95,099  ₹11,634/month  \n",
       "\n",
       "[798 rows x 9 columns]"
      ]
     },
     "execution_count": 4,
     "metadata": {},
     "output_type": "execute_result"
    }
   ],
   "source": [
    "df10"
   ]
  },
  {
   "cell_type": "code",
   "execution_count": 5,
   "id": "a3d2f688",
   "metadata": {},
   "outputs": [
    {
     "data": {
      "text/plain": [
       "(798, 9)"
      ]
     },
     "execution_count": 5,
     "metadata": {},
     "output_type": "execute_result"
    }
   ],
   "source": [
    "df10.shape"
   ]
  },
  {
   "cell_type": "code",
   "execution_count": 6,
   "id": "5ac9c163",
   "metadata": {},
   "outputs": [
    {
     "data": {
      "text/plain": [
       "Company           1\n",
       "Car_Name          1\n",
       "Engine_Version    0\n",
       "km_driven         0\n",
       "Owner             1\n",
       "mnf_year          1\n",
       "Fuel_Type         1\n",
       "Price             1\n",
       "Emi               1\n",
       "dtype: int64"
      ]
     },
     "execution_count": 6,
     "metadata": {},
     "output_type": "execute_result"
    }
   ],
   "source": [
    "df10.isnull().sum()"
   ]
  },
  {
   "cell_type": "code",
   "execution_count": 7,
   "id": "3fbb63da",
   "metadata": {},
   "outputs": [],
   "source": [
    "df10[['kms_driven', 'km']] = df10['km_driven'].str.split(' ', 1, expand=True)"
   ]
  },
  {
   "cell_type": "code",
   "execution_count": 8,
   "id": "57d03002",
   "metadata": {
    "scrolled": true
   },
   "outputs": [
    {
     "data": {
      "text/html": [
       "<div>\n",
       "<style scoped>\n",
       "    .dataframe tbody tr th:only-of-type {\n",
       "        vertical-align: middle;\n",
       "    }\n",
       "\n",
       "    .dataframe tbody tr th {\n",
       "        vertical-align: top;\n",
       "    }\n",
       "\n",
       "    .dataframe thead th {\n",
       "        text-align: right;\n",
       "    }\n",
       "</style>\n",
       "<table border=\"1\" class=\"dataframe\">\n",
       "  <thead>\n",
       "    <tr style=\"text-align: right;\">\n",
       "      <th></th>\n",
       "      <th>Company</th>\n",
       "      <th>Car_Name</th>\n",
       "      <th>Engine_Version</th>\n",
       "      <th>km_driven</th>\n",
       "      <th>Owner</th>\n",
       "      <th>mnf_year</th>\n",
       "      <th>Fuel_Type</th>\n",
       "      <th>Price</th>\n",
       "      <th>Emi</th>\n",
       "      <th>kms_driven</th>\n",
       "      <th>km</th>\n",
       "    </tr>\n",
       "  </thead>\n",
       "  <tbody>\n",
       "    <tr>\n",
       "      <th>0</th>\n",
       "      <td>Maruti</td>\n",
       "      <td>Swift</td>\n",
       "      <td>VXI AMT Automatic</td>\n",
       "      <td>34,460 km</td>\n",
       "      <td>1st</td>\n",
       "      <td>2018.0</td>\n",
       "      <td>Petrol</td>\n",
       "      <td>₹6,16,399</td>\n",
       "      <td>₹12,051/month</td>\n",
       "      <td>34,460</td>\n",
       "      <td>km</td>\n",
       "    </tr>\n",
       "    <tr>\n",
       "      <th>1</th>\n",
       "      <td>Mahindra</td>\n",
       "      <td>Thar</td>\n",
       "      <td>LX D 4*4 MT HT Manual</td>\n",
       "      <td>10,292 km</td>\n",
       "      <td>1st</td>\n",
       "      <td>2021.0</td>\n",
       "      <td>Diesel</td>\n",
       "      <td>₹16,73,799</td>\n",
       "      <td>₹32,723/month</td>\n",
       "      <td>10,292</td>\n",
       "      <td>km</td>\n",
       "    </tr>\n",
       "    <tr>\n",
       "      <th>2</th>\n",
       "      <td>Maruti</td>\n",
       "      <td>Swift</td>\n",
       "      <td>LXI Manual</td>\n",
       "      <td>13,780 km</td>\n",
       "      <td>1st</td>\n",
       "      <td>2019.0</td>\n",
       "      <td>Petrol</td>\n",
       "      <td>₹5,58,699</td>\n",
       "      <td>₹10,923/month</td>\n",
       "      <td>13,780</td>\n",
       "      <td>km</td>\n",
       "    </tr>\n",
       "    <tr>\n",
       "      <th>3</th>\n",
       "      <td>Maruti</td>\n",
       "      <td>Swift</td>\n",
       "      <td>LXI Manual</td>\n",
       "      <td>22,900 km</td>\n",
       "      <td>1st</td>\n",
       "      <td>2020.0</td>\n",
       "      <td>Petrol</td>\n",
       "      <td>₹5,58,499</td>\n",
       "      <td>₹10,919/month</td>\n",
       "      <td>22,900</td>\n",
       "      <td>km</td>\n",
       "    </tr>\n",
       "    <tr>\n",
       "      <th>4</th>\n",
       "      <td>Maruti</td>\n",
       "      <td>Swift</td>\n",
       "      <td>LXI Manual</td>\n",
       "      <td>17,435 km</td>\n",
       "      <td>1st</td>\n",
       "      <td>2020.0</td>\n",
       "      <td>Petrol</td>\n",
       "      <td>₹5,92,499</td>\n",
       "      <td>₹11,583/month</td>\n",
       "      <td>17,435</td>\n",
       "      <td>km</td>\n",
       "    </tr>\n",
       "    <tr>\n",
       "      <th>...</th>\n",
       "      <td>...</td>\n",
       "      <td>...</td>\n",
       "      <td>...</td>\n",
       "      <td>...</td>\n",
       "      <td>...</td>\n",
       "      <td>...</td>\n",
       "      <td>...</td>\n",
       "      <td>...</td>\n",
       "      <td>...</td>\n",
       "      <td>...</td>\n",
       "      <td>...</td>\n",
       "    </tr>\n",
       "    <tr>\n",
       "      <th>793</th>\n",
       "      <td>Maruti</td>\n",
       "      <td>Alto K10</td>\n",
       "      <td>VXI Manual</td>\n",
       "      <td>7,427 km</td>\n",
       "      <td>1st</td>\n",
       "      <td>2019.0</td>\n",
       "      <td>Petrol</td>\n",
       "      <td>₹4,16,999</td>\n",
       "      <td>₹8,152/month</td>\n",
       "      <td>7,427</td>\n",
       "      <td>km</td>\n",
       "    </tr>\n",
       "    <tr>\n",
       "      <th>794</th>\n",
       "      <td>Hyundai</td>\n",
       "      <td>Elite i20</td>\n",
       "      <td>SPORTZ 1.2 Manual</td>\n",
       "      <td>73,802 km</td>\n",
       "      <td>1st</td>\n",
       "      <td>2015.0</td>\n",
       "      <td>Petrol</td>\n",
       "      <td>₹5,34,899</td>\n",
       "      <td>₹10,457/month</td>\n",
       "      <td>73,802</td>\n",
       "      <td>km</td>\n",
       "    </tr>\n",
       "    <tr>\n",
       "      <th>795</th>\n",
       "      <td>Hyundai</td>\n",
       "      <td>GRAND I10 NIOS</td>\n",
       "      <td>1.2 Kappa Sports MT Manual</td>\n",
       "      <td>14,972 km</td>\n",
       "      <td>1st</td>\n",
       "      <td>2019.0</td>\n",
       "      <td>Petrol</td>\n",
       "      <td>₹5,96,099</td>\n",
       "      <td>₹11,654/month</td>\n",
       "      <td>14,972</td>\n",
       "      <td>km</td>\n",
       "    </tr>\n",
       "    <tr>\n",
       "      <th>796</th>\n",
       "      <td>Hyundai</td>\n",
       "      <td>Eon</td>\n",
       "      <td>ERA PLUS Manual</td>\n",
       "      <td>21,813 km</td>\n",
       "      <td>2nd</td>\n",
       "      <td>2016.0</td>\n",
       "      <td>Petrol</td>\n",
       "      <td>₹2,82,399</td>\n",
       "      <td>₹5,521/month</td>\n",
       "      <td>21,813</td>\n",
       "      <td>km</td>\n",
       "    </tr>\n",
       "    <tr>\n",
       "      <th>797</th>\n",
       "      <td>Hyundai</td>\n",
       "      <td>Elite i20</td>\n",
       "      <td>ASTA 1.2 Manual</td>\n",
       "      <td>37,502 km</td>\n",
       "      <td>1st</td>\n",
       "      <td>2017.0</td>\n",
       "      <td>Petrol</td>\n",
       "      <td>₹5,95,099</td>\n",
       "      <td>₹11,634/month</td>\n",
       "      <td>37,502</td>\n",
       "      <td>km</td>\n",
       "    </tr>\n",
       "  </tbody>\n",
       "</table>\n",
       "<p>798 rows × 11 columns</p>\n",
       "</div>"
      ],
      "text/plain": [
       "      Company        Car_Name              Engine_Version  km_driven Owner  \\\n",
       "0      Maruti           Swift           VXI AMT Automatic  34,460 km   1st   \n",
       "1    Mahindra            Thar       LX D 4*4 MT HT Manual  10,292 km   1st   \n",
       "2      Maruti           Swift                  LXI Manual  13,780 km   1st   \n",
       "3      Maruti           Swift                  LXI Manual  22,900 km   1st   \n",
       "4      Maruti           Swift                  LXI Manual  17,435 km   1st   \n",
       "..        ...             ...                         ...        ...   ...   \n",
       "793    Maruti        Alto K10                  VXI Manual   7,427 km   1st   \n",
       "794   Hyundai       Elite i20           SPORTZ 1.2 Manual  73,802 km   1st   \n",
       "795   Hyundai  GRAND I10 NIOS  1.2 Kappa Sports MT Manual  14,972 km   1st   \n",
       "796   Hyundai             Eon             ERA PLUS Manual  21,813 km   2nd   \n",
       "797   Hyundai       Elite i20             ASTA 1.2 Manual  37,502 km   1st   \n",
       "\n",
       "     mnf_year Fuel_Type       Price            Emi kms_driven  km  \n",
       "0      2018.0    Petrol   ₹6,16,399  ₹12,051/month     34,460  km  \n",
       "1      2021.0    Diesel  ₹16,73,799  ₹32,723/month     10,292  km  \n",
       "2      2019.0    Petrol   ₹5,58,699  ₹10,923/month     13,780  km  \n",
       "3      2020.0    Petrol   ₹5,58,499  ₹10,919/month     22,900  km  \n",
       "4      2020.0    Petrol   ₹5,92,499  ₹11,583/month     17,435  km  \n",
       "..        ...       ...         ...            ...        ...  ..  \n",
       "793    2019.0    Petrol   ₹4,16,999   ₹8,152/month      7,427  km  \n",
       "794    2015.0    Petrol   ₹5,34,899  ₹10,457/month     73,802  km  \n",
       "795    2019.0    Petrol   ₹5,96,099  ₹11,654/month     14,972  km  \n",
       "796    2016.0    Petrol   ₹2,82,399   ₹5,521/month     21,813  km  \n",
       "797    2017.0    Petrol   ₹5,95,099  ₹11,634/month     37,502  km  \n",
       "\n",
       "[798 rows x 11 columns]"
      ]
     },
     "execution_count": 8,
     "metadata": {},
     "output_type": "execute_result"
    }
   ],
   "source": [
    "df10"
   ]
  },
  {
   "cell_type": "code",
   "execution_count": 9,
   "id": "7f3f10cf",
   "metadata": {},
   "outputs": [],
   "source": [
    "df10.drop('km',axis=1,inplace=True)"
   ]
  },
  {
   "cell_type": "code",
   "execution_count": 10,
   "id": "8ec30bb5",
   "metadata": {
    "scrolled": true
   },
   "outputs": [
    {
     "data": {
      "text/html": [
       "<div>\n",
       "<style scoped>\n",
       "    .dataframe tbody tr th:only-of-type {\n",
       "        vertical-align: middle;\n",
       "    }\n",
       "\n",
       "    .dataframe tbody tr th {\n",
       "        vertical-align: top;\n",
       "    }\n",
       "\n",
       "    .dataframe thead th {\n",
       "        text-align: right;\n",
       "    }\n",
       "</style>\n",
       "<table border=\"1\" class=\"dataframe\">\n",
       "  <thead>\n",
       "    <tr style=\"text-align: right;\">\n",
       "      <th></th>\n",
       "      <th>Company</th>\n",
       "      <th>Car_Name</th>\n",
       "      <th>Engine_Version</th>\n",
       "      <th>km_driven</th>\n",
       "      <th>Owner</th>\n",
       "      <th>mnf_year</th>\n",
       "      <th>Fuel_Type</th>\n",
       "      <th>Price</th>\n",
       "      <th>Emi</th>\n",
       "      <th>kms_driven</th>\n",
       "    </tr>\n",
       "  </thead>\n",
       "  <tbody>\n",
       "    <tr>\n",
       "      <th>0</th>\n",
       "      <td>Maruti</td>\n",
       "      <td>Swift</td>\n",
       "      <td>VXI AMT Automatic</td>\n",
       "      <td>34,460 km</td>\n",
       "      <td>1st</td>\n",
       "      <td>2018.0</td>\n",
       "      <td>Petrol</td>\n",
       "      <td>₹6,16,399</td>\n",
       "      <td>₹12,051/month</td>\n",
       "      <td>34,460</td>\n",
       "    </tr>\n",
       "    <tr>\n",
       "      <th>1</th>\n",
       "      <td>Mahindra</td>\n",
       "      <td>Thar</td>\n",
       "      <td>LX D 4*4 MT HT Manual</td>\n",
       "      <td>10,292 km</td>\n",
       "      <td>1st</td>\n",
       "      <td>2021.0</td>\n",
       "      <td>Diesel</td>\n",
       "      <td>₹16,73,799</td>\n",
       "      <td>₹32,723/month</td>\n",
       "      <td>10,292</td>\n",
       "    </tr>\n",
       "    <tr>\n",
       "      <th>2</th>\n",
       "      <td>Maruti</td>\n",
       "      <td>Swift</td>\n",
       "      <td>LXI Manual</td>\n",
       "      <td>13,780 km</td>\n",
       "      <td>1st</td>\n",
       "      <td>2019.0</td>\n",
       "      <td>Petrol</td>\n",
       "      <td>₹5,58,699</td>\n",
       "      <td>₹10,923/month</td>\n",
       "      <td>13,780</td>\n",
       "    </tr>\n",
       "    <tr>\n",
       "      <th>3</th>\n",
       "      <td>Maruti</td>\n",
       "      <td>Swift</td>\n",
       "      <td>LXI Manual</td>\n",
       "      <td>22,900 km</td>\n",
       "      <td>1st</td>\n",
       "      <td>2020.0</td>\n",
       "      <td>Petrol</td>\n",
       "      <td>₹5,58,499</td>\n",
       "      <td>₹10,919/month</td>\n",
       "      <td>22,900</td>\n",
       "    </tr>\n",
       "    <tr>\n",
       "      <th>4</th>\n",
       "      <td>Maruti</td>\n",
       "      <td>Swift</td>\n",
       "      <td>LXI Manual</td>\n",
       "      <td>17,435 km</td>\n",
       "      <td>1st</td>\n",
       "      <td>2020.0</td>\n",
       "      <td>Petrol</td>\n",
       "      <td>₹5,92,499</td>\n",
       "      <td>₹11,583/month</td>\n",
       "      <td>17,435</td>\n",
       "    </tr>\n",
       "    <tr>\n",
       "      <th>...</th>\n",
       "      <td>...</td>\n",
       "      <td>...</td>\n",
       "      <td>...</td>\n",
       "      <td>...</td>\n",
       "      <td>...</td>\n",
       "      <td>...</td>\n",
       "      <td>...</td>\n",
       "      <td>...</td>\n",
       "      <td>...</td>\n",
       "      <td>...</td>\n",
       "    </tr>\n",
       "    <tr>\n",
       "      <th>793</th>\n",
       "      <td>Maruti</td>\n",
       "      <td>Alto K10</td>\n",
       "      <td>VXI Manual</td>\n",
       "      <td>7,427 km</td>\n",
       "      <td>1st</td>\n",
       "      <td>2019.0</td>\n",
       "      <td>Petrol</td>\n",
       "      <td>₹4,16,999</td>\n",
       "      <td>₹8,152/month</td>\n",
       "      <td>7,427</td>\n",
       "    </tr>\n",
       "    <tr>\n",
       "      <th>794</th>\n",
       "      <td>Hyundai</td>\n",
       "      <td>Elite i20</td>\n",
       "      <td>SPORTZ 1.2 Manual</td>\n",
       "      <td>73,802 km</td>\n",
       "      <td>1st</td>\n",
       "      <td>2015.0</td>\n",
       "      <td>Petrol</td>\n",
       "      <td>₹5,34,899</td>\n",
       "      <td>₹10,457/month</td>\n",
       "      <td>73,802</td>\n",
       "    </tr>\n",
       "    <tr>\n",
       "      <th>795</th>\n",
       "      <td>Hyundai</td>\n",
       "      <td>GRAND I10 NIOS</td>\n",
       "      <td>1.2 Kappa Sports MT Manual</td>\n",
       "      <td>14,972 km</td>\n",
       "      <td>1st</td>\n",
       "      <td>2019.0</td>\n",
       "      <td>Petrol</td>\n",
       "      <td>₹5,96,099</td>\n",
       "      <td>₹11,654/month</td>\n",
       "      <td>14,972</td>\n",
       "    </tr>\n",
       "    <tr>\n",
       "      <th>796</th>\n",
       "      <td>Hyundai</td>\n",
       "      <td>Eon</td>\n",
       "      <td>ERA PLUS Manual</td>\n",
       "      <td>21,813 km</td>\n",
       "      <td>2nd</td>\n",
       "      <td>2016.0</td>\n",
       "      <td>Petrol</td>\n",
       "      <td>₹2,82,399</td>\n",
       "      <td>₹5,521/month</td>\n",
       "      <td>21,813</td>\n",
       "    </tr>\n",
       "    <tr>\n",
       "      <th>797</th>\n",
       "      <td>Hyundai</td>\n",
       "      <td>Elite i20</td>\n",
       "      <td>ASTA 1.2 Manual</td>\n",
       "      <td>37,502 km</td>\n",
       "      <td>1st</td>\n",
       "      <td>2017.0</td>\n",
       "      <td>Petrol</td>\n",
       "      <td>₹5,95,099</td>\n",
       "      <td>₹11,634/month</td>\n",
       "      <td>37,502</td>\n",
       "    </tr>\n",
       "  </tbody>\n",
       "</table>\n",
       "<p>798 rows × 10 columns</p>\n",
       "</div>"
      ],
      "text/plain": [
       "      Company        Car_Name              Engine_Version  km_driven Owner  \\\n",
       "0      Maruti           Swift           VXI AMT Automatic  34,460 km   1st   \n",
       "1    Mahindra            Thar       LX D 4*4 MT HT Manual  10,292 km   1st   \n",
       "2      Maruti           Swift                  LXI Manual  13,780 km   1st   \n",
       "3      Maruti           Swift                  LXI Manual  22,900 km   1st   \n",
       "4      Maruti           Swift                  LXI Manual  17,435 km   1st   \n",
       "..        ...             ...                         ...        ...   ...   \n",
       "793    Maruti        Alto K10                  VXI Manual   7,427 km   1st   \n",
       "794   Hyundai       Elite i20           SPORTZ 1.2 Manual  73,802 km   1st   \n",
       "795   Hyundai  GRAND I10 NIOS  1.2 Kappa Sports MT Manual  14,972 km   1st   \n",
       "796   Hyundai             Eon             ERA PLUS Manual  21,813 km   2nd   \n",
       "797   Hyundai       Elite i20             ASTA 1.2 Manual  37,502 km   1st   \n",
       "\n",
       "     mnf_year Fuel_Type       Price            Emi kms_driven  \n",
       "0      2018.0    Petrol   ₹6,16,399  ₹12,051/month     34,460  \n",
       "1      2021.0    Diesel  ₹16,73,799  ₹32,723/month     10,292  \n",
       "2      2019.0    Petrol   ₹5,58,699  ₹10,923/month     13,780  \n",
       "3      2020.0    Petrol   ₹5,58,499  ₹10,919/month     22,900  \n",
       "4      2020.0    Petrol   ₹5,92,499  ₹11,583/month     17,435  \n",
       "..        ...       ...         ...            ...        ...  \n",
       "793    2019.0    Petrol   ₹4,16,999   ₹8,152/month      7,427  \n",
       "794    2015.0    Petrol   ₹5,34,899  ₹10,457/month     73,802  \n",
       "795    2019.0    Petrol   ₹5,96,099  ₹11,654/month     14,972  \n",
       "796    2016.0    Petrol   ₹2,82,399   ₹5,521/month     21,813  \n",
       "797    2017.0    Petrol   ₹5,95,099  ₹11,634/month     37,502  \n",
       "\n",
       "[798 rows x 10 columns]"
      ]
     },
     "execution_count": 10,
     "metadata": {},
     "output_type": "execute_result"
    }
   ],
   "source": [
    "df10"
   ]
  },
  {
   "cell_type": "code",
   "execution_count": 11,
   "id": "5b9271d9",
   "metadata": {
    "scrolled": true
   },
   "outputs": [],
   "source": [
    "df10[\"kms_driven\"]=df10[\"kms_driven\"].str.replace(\",\",\"\",regex=True)"
   ]
  },
  {
   "cell_type": "code",
   "execution_count": 12,
   "id": "1fce13a0",
   "metadata": {},
   "outputs": [],
   "source": [
    "df10[\"Price\"]=df10[\"Price\"].str.replace(\"₹\",\"\",regex=True)"
   ]
  },
  {
   "cell_type": "code",
   "execution_count": 13,
   "id": "701c8f6b",
   "metadata": {},
   "outputs": [],
   "source": [
    "df10[\"Owner\"]=df10[\"Owner\"].str.replace(\"st\",\"\",regex=True)"
   ]
  },
  {
   "cell_type": "code",
   "execution_count": 14,
   "id": "82e90411",
   "metadata": {},
   "outputs": [],
   "source": [
    "df10[\"kms_driven\"]=pd.to_numeric(df10[\"kms_driven\"])"
   ]
  },
  {
   "cell_type": "code",
   "execution_count": 15,
   "id": "8542691a",
   "metadata": {},
   "outputs": [],
   "source": [
    "df10[\"Price\"]=df10[\"Price\"].str.replace(\",\",\"\",regex=True)"
   ]
  },
  {
   "cell_type": "code",
   "execution_count": 16,
   "id": "524d92d6",
   "metadata": {},
   "outputs": [],
   "source": [
    "df10[\"Price\"]=pd.to_numeric(df10[\"Price\"])"
   ]
  },
  {
   "cell_type": "code",
   "execution_count": 17,
   "id": "bd45c91c",
   "metadata": {},
   "outputs": [],
   "source": [
    "df10[\"Owner\"]=df10[\"Owner\"].str[:1]"
   ]
  },
  {
   "cell_type": "code",
   "execution_count": 18,
   "id": "c418107d",
   "metadata": {},
   "outputs": [],
   "source": [
    "df10.drop(\"km_driven\",axis=1,inplace=True)"
   ]
  },
  {
   "cell_type": "code",
   "execution_count": 19,
   "id": "6f245a91",
   "metadata": {},
   "outputs": [],
   "source": [
    "df10[\"Owner\"]=pd.to_numeric(df10[\"Owner\"])"
   ]
  },
  {
   "cell_type": "code",
   "execution_count": 20,
   "id": "c0dab5af",
   "metadata": {},
   "outputs": [
    {
     "name": "stdout",
     "output_type": "stream",
     "text": [
      "<class 'pandas.core.frame.DataFrame'>\n",
      "RangeIndex: 798 entries, 0 to 797\n",
      "Data columns (total 9 columns):\n",
      " #   Column          Non-Null Count  Dtype  \n",
      "---  ------          --------------  -----  \n",
      " 0   Company         797 non-null    object \n",
      " 1   Car_Name        797 non-null    object \n",
      " 2   Engine_Version  798 non-null    object \n",
      " 3   Owner           797 non-null    float64\n",
      " 4   mnf_year        797 non-null    float64\n",
      " 5   Fuel_Type       797 non-null    object \n",
      " 6   Price           797 non-null    float64\n",
      " 7   Emi             797 non-null    object \n",
      " 8   kms_driven      797 non-null    float64\n",
      "dtypes: float64(4), object(5)\n",
      "memory usage: 56.2+ KB\n"
     ]
    }
   ],
   "source": [
    "df10.info()"
   ]
  },
  {
   "cell_type": "code",
   "execution_count": 21,
   "id": "faa9ec95",
   "metadata": {},
   "outputs": [],
   "source": [
    "df10.dropna(inplace=True)"
   ]
  },
  {
   "cell_type": "code",
   "execution_count": 22,
   "id": "9e289b46",
   "metadata": {
    "scrolled": true
   },
   "outputs": [
    {
     "data": {
      "text/html": [
       "<div>\n",
       "<style scoped>\n",
       "    .dataframe tbody tr th:only-of-type {\n",
       "        vertical-align: middle;\n",
       "    }\n",
       "\n",
       "    .dataframe tbody tr th {\n",
       "        vertical-align: top;\n",
       "    }\n",
       "\n",
       "    .dataframe thead th {\n",
       "        text-align: right;\n",
       "    }\n",
       "</style>\n",
       "<table border=\"1\" class=\"dataframe\">\n",
       "  <thead>\n",
       "    <tr style=\"text-align: right;\">\n",
       "      <th></th>\n",
       "      <th>Company</th>\n",
       "      <th>Car_Name</th>\n",
       "      <th>Engine_Version</th>\n",
       "      <th>Owner</th>\n",
       "      <th>mnf_year</th>\n",
       "      <th>Fuel_Type</th>\n",
       "      <th>Price</th>\n",
       "      <th>Emi</th>\n",
       "      <th>kms_driven</th>\n",
       "    </tr>\n",
       "  </thead>\n",
       "  <tbody>\n",
       "    <tr>\n",
       "      <th>0</th>\n",
       "      <td>Maruti</td>\n",
       "      <td>Swift</td>\n",
       "      <td>VXI AMT Automatic</td>\n",
       "      <td>1.0</td>\n",
       "      <td>2018.0</td>\n",
       "      <td>Petrol</td>\n",
       "      <td>616399.0</td>\n",
       "      <td>₹12,051/month</td>\n",
       "      <td>34460.0</td>\n",
       "    </tr>\n",
       "    <tr>\n",
       "      <th>1</th>\n",
       "      <td>Mahindra</td>\n",
       "      <td>Thar</td>\n",
       "      <td>LX D 4*4 MT HT Manual</td>\n",
       "      <td>1.0</td>\n",
       "      <td>2021.0</td>\n",
       "      <td>Diesel</td>\n",
       "      <td>1673799.0</td>\n",
       "      <td>₹32,723/month</td>\n",
       "      <td>10292.0</td>\n",
       "    </tr>\n",
       "    <tr>\n",
       "      <th>2</th>\n",
       "      <td>Maruti</td>\n",
       "      <td>Swift</td>\n",
       "      <td>LXI Manual</td>\n",
       "      <td>1.0</td>\n",
       "      <td>2019.0</td>\n",
       "      <td>Petrol</td>\n",
       "      <td>558699.0</td>\n",
       "      <td>₹10,923/month</td>\n",
       "      <td>13780.0</td>\n",
       "    </tr>\n",
       "    <tr>\n",
       "      <th>3</th>\n",
       "      <td>Maruti</td>\n",
       "      <td>Swift</td>\n",
       "      <td>LXI Manual</td>\n",
       "      <td>1.0</td>\n",
       "      <td>2020.0</td>\n",
       "      <td>Petrol</td>\n",
       "      <td>558499.0</td>\n",
       "      <td>₹10,919/month</td>\n",
       "      <td>22900.0</td>\n",
       "    </tr>\n",
       "    <tr>\n",
       "      <th>4</th>\n",
       "      <td>Maruti</td>\n",
       "      <td>Swift</td>\n",
       "      <td>LXI Manual</td>\n",
       "      <td>1.0</td>\n",
       "      <td>2020.0</td>\n",
       "      <td>Petrol</td>\n",
       "      <td>592499.0</td>\n",
       "      <td>₹11,583/month</td>\n",
       "      <td>17435.0</td>\n",
       "    </tr>\n",
       "  </tbody>\n",
       "</table>\n",
       "</div>"
      ],
      "text/plain": [
       "    Company Car_Name         Engine_Version  Owner  mnf_year Fuel_Type  \\\n",
       "0    Maruti    Swift      VXI AMT Automatic    1.0    2018.0    Petrol   \n",
       "1  Mahindra     Thar  LX D 4*4 MT HT Manual    1.0    2021.0    Diesel   \n",
       "2    Maruti    Swift             LXI Manual    1.0    2019.0    Petrol   \n",
       "3    Maruti    Swift             LXI Manual    1.0    2020.0    Petrol   \n",
       "4    Maruti    Swift             LXI Manual    1.0    2020.0    Petrol   \n",
       "\n",
       "       Price            Emi  kms_driven  \n",
       "0   616399.0  ₹12,051/month     34460.0  \n",
       "1  1673799.0  ₹32,723/month     10292.0  \n",
       "2   558699.0  ₹10,923/month     13780.0  \n",
       "3   558499.0  ₹10,919/month     22900.0  \n",
       "4   592499.0  ₹11,583/month     17435.0  "
      ]
     },
     "execution_count": 22,
     "metadata": {},
     "output_type": "execute_result"
    }
   ],
   "source": [
    "df10.head()"
   ]
  },
  {
   "cell_type": "code",
   "execution_count": 23,
   "id": "fcc83708",
   "metadata": {},
   "outputs": [],
   "source": [
    "df10.to_csv('a.csv')"
   ]
  },
  {
   "cell_type": "code",
   "execution_count": 24,
   "id": "dcf196ed",
   "metadata": {},
   "outputs": [
    {
     "data": {
      "text/plain": [
       "Index(['Company', 'Car_Name', 'Engine_Version', 'Fuel_Type', 'Emi'], dtype='object')"
      ]
     },
     "execution_count": 24,
     "metadata": {},
     "output_type": "execute_result"
    }
   ],
   "source": [
    "df10.dtypes[df10.dtypes=='object'].index"
   ]
  },
  {
   "cell_type": "code",
   "execution_count": 25,
   "id": "86f7dec5",
   "metadata": {},
   "outputs": [
    {
     "name": "stdout",
     "output_type": "stream",
     "text": [
      "18\n",
      "83\n",
      "181\n",
      "3\n",
      "436\n"
     ]
    },
    {
     "data": {
      "text/plain": [
       "['Company', 'Car_Name', 'Fuel_Type']"
      ]
     },
     "execution_count": 25,
     "metadata": {},
     "output_type": "execute_result"
    }
   ],
   "source": [
    "for i in df10.dtypes[df10.dtypes=='object'].index:\n",
    "    print(df10[i].nunique())\n",
    "#     print(df10[i].value_counts())\n",
    "#     print('*'*50)\n",
    "['Company', 'Car_Name', 'Fuel_Type']"
   ]
  },
  {
   "cell_type": "code",
   "execution_count": 26,
   "id": "a9270dfc",
   "metadata": {
    "scrolled": true
   },
   "outputs": [
    {
     "data": {
      "text/plain": [
       "Company            object\n",
       "Car_Name           object\n",
       "Engine_Version     object\n",
       "Owner             float64\n",
       "mnf_year          float64\n",
       "Fuel_Type          object\n",
       "Price             float64\n",
       "Emi                object\n",
       "kms_driven        float64\n",
       "dtype: object"
      ]
     },
     "execution_count": 26,
     "metadata": {},
     "output_type": "execute_result"
    }
   ],
   "source": [
    "df10.dtypes"
   ]
  },
  {
   "cell_type": "markdown",
   "id": "6a4bbe94",
   "metadata": {},
   "source": [
    "### Label Encoding of some features "
   ]
  },
  {
   "cell_type": "code",
   "execution_count": 27,
   "id": "4cc0b393",
   "metadata": {},
   "outputs": [],
   "source": [
    "from sklearn.preprocessing import LabelEncoder\n",
    "lb = LabelEncoder()"
   ]
  },
  {
   "cell_type": "code",
   "execution_count": 28,
   "id": "1fb49517",
   "metadata": {},
   "outputs": [],
   "source": [
    "used_cat_cols = ['Company', 'Car_Name', 'Fuel_Type']\n",
    "for i in used_cat_cols:\n",
    "    df10[i] = lb.fit_transform(df10[i])"
   ]
  },
  {
   "cell_type": "code",
   "execution_count": 29,
   "id": "0a207e9a",
   "metadata": {},
   "outputs": [
    {
     "data": {
      "text/plain": [
       "Company             int32\n",
       "Car_Name            int32\n",
       "Engine_Version     object\n",
       "Owner             float64\n",
       "mnf_year          float64\n",
       "Fuel_Type           int32\n",
       "Price             float64\n",
       "Emi                object\n",
       "kms_driven        float64\n",
       "dtype: object"
      ]
     },
     "execution_count": 29,
     "metadata": {},
     "output_type": "execute_result"
    }
   ],
   "source": [
    "df10.dtypes"
   ]
  },
  {
   "cell_type": "code",
   "execution_count": 30,
   "id": "384fd4f3",
   "metadata": {},
   "outputs": [],
   "source": [
    "cars = df10.copy()"
   ]
  },
  {
   "cell_type": "code",
   "execution_count": 31,
   "id": "d9f2d4a1",
   "metadata": {},
   "outputs": [],
   "source": [
    "cars.to_csv('cars.csv')"
   ]
  },
  {
   "cell_type": "code",
   "execution_count": null,
   "id": "4787e181",
   "metadata": {},
   "outputs": [],
   "source": []
  },
  {
   "cell_type": "code",
   "execution_count": 32,
   "id": "1e732503",
   "metadata": {},
   "outputs": [],
   "source": [
    "# df10['mnf_year'].value_counts()"
   ]
  },
  {
   "cell_type": "code",
   "execution_count": 33,
   "id": "a9a8ad13",
   "metadata": {
    "scrolled": true
   },
   "outputs": [
    {
     "data": {
      "image/png": "[encoded data removed]",
      "text/plain": [
       "<Figure size 432x288 with 2 Axes>"
      ]
     },
     "metadata": {
      "needs_background": "light"
     },
     "output_type": "display_data"
    }
   ],
   "source": [
    "sns.heatmap(df10.corr(),annot=True)\n",
    "plt.show()"
   ]
  },
  {
   "cell_type": "markdown",
   "id": "44ad980a",
   "metadata": {},
   "source": [
    "## EDA(Exploratry Data Analysis)"
   ]
  },
  {
   "cell_type": "code",
   "execution_count": 34,
   "id": "118c5a12",
   "metadata": {},
   "outputs": [
    {
     "name": "stderr",
     "output_type": "stream",
     "text": [
      "C:\\Users\\Sanjeev boora\\anaconda3\\lib\\site-packages\\seaborn\\_decorators.py:36: FutureWarning: Pass the following variable as a keyword arg: x. From version 0.12, the only valid positional argument will be `data`, and passing other arguments without an explicit keyword will result in an error or misinterpretation.\n",
      "  warnings.warn(\n"
     ]
    },
    {
     "data": {
      "image/png": "[encoded data removed]",
      "text/plain": [
       "<Figure size 1440x1080 with 1 Axes>"
      ]
     },
     "metadata": {
      "needs_background": "light"
     },
     "output_type": "display_data"
    }
   ],
   "source": [
    "plt.figure(figsize = (20, 15))\n",
    "sns.countplot(df10.mnf_year, palette = 'viridis')\n",
    "plt.title(\"Number of cars in different years\", fontsize = 20)\n",
    "plt.show()"
   ]
  },
  {
   "cell_type": "code",
   "execution_count": 35,
   "id": "d0a10da6",
   "metadata": {},
   "outputs": [
    {
     "data": {
      "image/png": "[encoded data removed]",
      "text/plain": [
       "<Figure size 1440x720 with 1 Axes>"
      ]
     },
     "metadata": {
      "needs_background": "light"
     },
     "output_type": "display_data"
    }
   ],
   "source": [
    "plt.figure(figsize = (20, 10))\n",
    "df10.groupby('mnf_year')['Price'].mean().plot(kind = 'bar', color = 'b')\n",
    "plt.title(\"The Average Price of cars in different years\", fontsize = 20)\n",
    "plt.show()"
   ]
  },
  {
   "cell_type": "code",
   "execution_count": 36,
   "id": "c7f36aef",
   "metadata": {},
   "outputs": [
    {
     "data": {
      "image/png": "[encoded data removed]",
      "text/plain": [
       "<Figure size 1440x1080 with 1 Axes>"
      ]
     },
     "metadata": {
      "needs_background": "light"
     },
     "output_type": "display_data"
    }
   ],
   "source": [
    "plt.figure(figsize = (20, 15))\n",
    "df10.groupby(['Car_Name']).mean()['Price'].sort_values(ascending = False).plot(kind = 'bar', fontsize = 15, color = 'black')\n",
    "plt.title(\"The average price of cars of different companies\", fontsize = 20)\n",
    "plt.show()"
   ]
  },
  {
   "cell_type": "code",
   "execution_count": null,
   "id": "0492baac",
   "metadata": {},
   "outputs": [],
   "source": []
  },
  {
   "cell_type": "code",
   "execution_count": 37,
   "id": "dbb03d5e",
   "metadata": {},
   "outputs": [
    {
     "data": {
      "text/plain": [
       "Index(['Company', 'Car_Name', 'Engine_Version', 'Owner', 'mnf_year',\n",
       "       'Fuel_Type', 'Price', 'Emi', 'kms_driven'],\n",
       "      dtype='object')"
      ]
     },
     "execution_count": 37,
     "metadata": {},
     "output_type": "execute_result"
    }
   ],
   "source": [
    "df10.columns"
   ]
  },
  {
   "cell_type": "code",
   "execution_count": 38,
   "id": "142bd6e9",
   "metadata": {},
   "outputs": [
    {
     "data": {
      "text/plain": [
       "Company             int32\n",
       "Car_Name            int32\n",
       "Engine_Version     object\n",
       "Owner             float64\n",
       "mnf_year          float64\n",
       "Fuel_Type           int32\n",
       "Price             float64\n",
       "Emi                object\n",
       "kms_driven        float64\n",
       "dtype: object"
      ]
     },
     "execution_count": 38,
     "metadata": {},
     "output_type": "execute_result"
    }
   ],
   "source": [
    "df10.dtypes"
   ]
  },
  {
   "cell_type": "code",
   "execution_count": 39,
   "id": "20267ef0",
   "metadata": {
    "scrolled": true
   },
   "outputs": [
    {
     "data": {
      "text/html": [
       "<div>\n",
       "<style scoped>\n",
       "    .dataframe tbody tr th:only-of-type {\n",
       "        vertical-align: middle;\n",
       "    }\n",
       "\n",
       "    .dataframe tbody tr th {\n",
       "        vertical-align: top;\n",
       "    }\n",
       "\n",
       "    .dataframe thead th {\n",
       "        text-align: right;\n",
       "    }\n",
       "</style>\n",
       "<table border=\"1\" class=\"dataframe\">\n",
       "  <thead>\n",
       "    <tr style=\"text-align: right;\">\n",
       "      <th></th>\n",
       "      <th>Company</th>\n",
       "      <th>Car_Name</th>\n",
       "      <th>Owner</th>\n",
       "      <th>mnf_year</th>\n",
       "      <th>Fuel_Type</th>\n",
       "      <th>kms_driven</th>\n",
       "    </tr>\n",
       "  </thead>\n",
       "  <tbody>\n",
       "    <tr>\n",
       "      <th>0</th>\n",
       "      <td>9</td>\n",
       "      <td>55</td>\n",
       "      <td>1.0</td>\n",
       "      <td>2018.0</td>\n",
       "      <td>2</td>\n",
       "      <td>34460.0</td>\n",
       "    </tr>\n",
       "    <tr>\n",
       "      <th>1</th>\n",
       "      <td>8</td>\n",
       "      <td>62</td>\n",
       "      <td>1.0</td>\n",
       "      <td>2021.0</td>\n",
       "      <td>0</td>\n",
       "      <td>10292.0</td>\n",
       "    </tr>\n",
       "    <tr>\n",
       "      <th>2</th>\n",
       "      <td>9</td>\n",
       "      <td>55</td>\n",
       "      <td>1.0</td>\n",
       "      <td>2019.0</td>\n",
       "      <td>2</td>\n",
       "      <td>13780.0</td>\n",
       "    </tr>\n",
       "    <tr>\n",
       "      <th>3</th>\n",
       "      <td>9</td>\n",
       "      <td>55</td>\n",
       "      <td>1.0</td>\n",
       "      <td>2020.0</td>\n",
       "      <td>2</td>\n",
       "      <td>22900.0</td>\n",
       "    </tr>\n",
       "    <tr>\n",
       "      <th>4</th>\n",
       "      <td>9</td>\n",
       "      <td>55</td>\n",
       "      <td>1.0</td>\n",
       "      <td>2020.0</td>\n",
       "      <td>2</td>\n",
       "      <td>17435.0</td>\n",
       "    </tr>\n",
       "  </tbody>\n",
       "</table>\n",
       "</div>"
      ],
      "text/plain": [
       "   Company  Car_Name  Owner  mnf_year  Fuel_Type  kms_driven\n",
       "0        9        55    1.0    2018.0          2     34460.0\n",
       "1        8        62    1.0    2021.0          0     10292.0\n",
       "2        9        55    1.0    2019.0          2     13780.0\n",
       "3        9        55    1.0    2020.0          2     22900.0\n",
       "4        9        55    1.0    2020.0          2     17435.0"
      ]
     },
     "execution_count": 39,
     "metadata": {},
     "output_type": "execute_result"
    }
   ],
   "source": [
    "x = df10.iloc[:,[0,1,3,4,5,8]]\n",
    "y = df10['Price']\n",
    "x.head()"
   ]
  },
  {
   "cell_type": "markdown",
   "id": "62204b1f",
   "metadata": {},
   "source": [
    "## Model Building\n",
    "### Here we use following regression analysis algorithm "
   ]
  },
  {
   "cell_type": "markdown",
   "id": "c622138a",
   "metadata": {},
   "source": [
    "### 1) Linear Regression\n",
    "### 2) Decesion Tree Regressor\n",
    "### 3) RandomForest Regressor\n",
    "### 4) XGBRegressor"
   ]
  },
  {
   "cell_type": "code",
   "execution_count": 40,
   "id": "c1ca602b",
   "metadata": {},
   "outputs": [],
   "source": [
    "from sklearn.model_selection import train_test_split"
   ]
  },
  {
   "cell_type": "code",
   "execution_count": 41,
   "id": "f1e4fab6",
   "metadata": {},
   "outputs": [
    {
     "name": "stdout",
     "output_type": "stream",
     "text": [
      "(597, 6)\n",
      "(200, 6)\n",
      "(597,)\n",
      "(200,)\n"
     ]
    }
   ],
   "source": [
    "x_train,x_test,y_train,y_test = train_test_split(x,y,test_size=0.25,random_state=35)\n",
    "print(x_train.shape)\n",
    "print(x_test.shape)\n",
    "print(y_train.shape)\n",
    "print(y_test.shape)"
   ]
  },
  {
   "cell_type": "code",
   "execution_count": 42,
   "id": "3b023004",
   "metadata": {},
   "outputs": [],
   "source": [
    "def gen_model(model,x_train,x_test,y_train,y_test):\n",
    "    model.fit(x_train,y_train)\n",
    "    ypred = model.predict(x_test)\n",
    "    print('Training Score',model.score(x_train,y_train))\n",
    "    print('Testing Score',model.score(x_test,y_test))\n",
    "    mae = mean_absolute_error(y_test,ypred)\n",
    "    mse = mean_squared_error(y_test,ypred)\n",
    "    rmse = np.sqrt(mse)\n",
    "    r2_scr = r2_score(y_test,ypred)\n",
    "    print('MAE',mae)\n",
    "    print('MSE',mse)\n",
    "    print('RMSE',rmse)\n",
    "    print('R2 Score',r2_scr)\n",
    "    "
   ]
  },
  {
   "cell_type": "code",
   "execution_count": 43,
   "id": "6fa38866",
   "metadata": {},
   "outputs": [],
   "source": [
    "# def reg_eval(ytest,ypred):\n",
    "#     mae = mean_absolute_error(ytest,ypred)\n",
    "#     mse = mean_squared_error(ytest,ypred)\n",
    "#     rmse = mean_absolute_error(ytest,ypred)\n",
    "#     r2_scr = r2_score(ytest,ypred)\n",
    "#     print('MAE',mae)\n",
    "#     print('MSE',mse)\n",
    "#     print('RMSE',rmse)\n",
    "#     print('r2_scr',r2_scr)\n",
    "    \n",
    "# def mscore(model):\n",
    "#     print('Training Score',model.score(x_train,y_train))\n",
    "#     print('Testing Score',model.score(x_test,y_test))"
   ]
  },
  {
   "cell_type": "markdown",
   "id": "ba716443",
   "metadata": {},
   "source": [
    "## Lin Reg"
   ]
  },
  {
   "cell_type": "code",
   "execution_count": 44,
   "id": "cdbd4b83",
   "metadata": {
    "scrolled": true
   },
   "outputs": [
    {
     "name": "stdout",
     "output_type": "stream",
     "text": [
      "Training Score 0.44872861864679003\n",
      "Testing Score 0.5324646733220476\n",
      "MAE 176817.48328413806\n",
      "MSE 58351004508.12649\n",
      "RMSE 241559.52580704924\n",
      "R2 Score 0.5324646733220476\n"
     ]
    }
   ],
   "source": [
    "m1 = LinearRegression()\n",
    "gen_model(m1,x_train,x_test,y_train,y_test)"
   ]
  },
  {
   "cell_type": "code",
   "execution_count": 45,
   "id": "32fbf739",
   "metadata": {},
   "outputs": [],
   "source": [
    "y_pred=m1.predict(x_test)"
   ]
  },
  {
   "cell_type": "code",
   "execution_count": 46,
   "id": "1498fd1d",
   "metadata": {},
   "outputs": [
    {
     "name": "stderr",
     "output_type": "stream",
     "text": [
      "C:\\Users\\Sanjeev boora\\anaconda3\\lib\\site-packages\\seaborn\\distributions.py:2619: FutureWarning: `distplot` is a deprecated function and will be removed in a future version. Please adapt your code to use either `displot` (a figure-level function with similar flexibility) or `histplot` (an axes-level function for histograms).\n",
      "  warnings.warn(msg, FutureWarning)\n"
     ]
    },
    {
     "data": {
      "image/png": "[encoded data removed]",
      "text/plain": [
       "<Figure size 432x288 with 1 Axes>"
      ]
     },
     "metadata": {
      "needs_background": "light"
     },
     "output_type": "display_data"
    },
    {
     "data": {
      "image/png": "[encoded data removed]",
      "text/plain": [
       "<Figure size 432x288 with 1 Axes>"
      ]
     },
     "metadata": {
      "needs_background": "light"
     },
     "output_type": "display_data"
    }
   ],
   "source": [
    "sns.distplot(y_test-y_pred)\n",
    "plt.show()\n",
    "\n",
    "plt.scatter(y_test, y_pred, alpha = 0.5)\n",
    "plt.xlabel(\"y_test\")\n",
    "plt.ylabel(\"y_pred\")\n",
    "plt.show()"
   ]
  },
  {
   "cell_type": "code",
   "execution_count": 47,
   "id": "f433886e",
   "metadata": {},
   "outputs": [
    {
     "data": {
      "image/png": "[encoded data removed]",
      "text/plain": [
       "<Figure size 720x360 with 1 Axes>"
      ]
     },
     "metadata": {
      "needs_background": "light"
     },
     "output_type": "display_data"
    }
   ],
   "source": [
    "df10_check = pd.DataFrame({'Actual': y_test, 'Predicted': y_pred})\n",
    "df10_check = df10_check.head(25)\n",
    "#round(df_check,2)\n",
    "df10_check.plot(kind='bar',figsize=(10,5))\n",
    "plt.grid(which='major', linestyle='-', linewidth='0.5', color='green')\n",
    "plt.title('Performance of Linear Regressor')\n",
    "plt.ylabel('Mean Squared Log Error')\n",
    "plt.show()"
   ]
  },
  {
   "cell_type": "code",
   "execution_count": null,
   "id": "e98a2dc7",
   "metadata": {},
   "outputs": [],
   "source": []
  },
  {
   "cell_type": "markdown",
   "id": "9c682f89",
   "metadata": {},
   "source": [
    "## DT Regressor"
   ]
  },
  {
   "cell_type": "code",
   "execution_count": 48,
   "id": "0e3cc4a6",
   "metadata": {},
   "outputs": [],
   "source": [
    "#max_features : int, float or {\"auto\", \"sqrt\", \"log2\"}splitter : {\"best\", \"random\"}min_samples_leaf : int or float, default=1"
   ]
  },
  {
   "cell_type": "code",
   "execution_count": 49,
   "id": "fbd16d87",
   "metadata": {
    "scrolled": true
   },
   "outputs": [
    {
     "name": "stdout",
     "output_type": "stream",
     "text": [
      "Training Score 0.9344647216783917\n",
      "Testing Score 0.8524850406080348\n",
      "MAE 76035.58359140858\n",
      "MSE 18410685929.676876\n",
      "RMSE 135685.9828046983\n",
      "R2 Score 0.8524850406080348\n"
     ]
    }
   ],
   "source": [
    "m2 = DecisionTreeRegressor(criterion=\"friedman_mse\",max_depth=20,min_samples_split=10,min_samples_leaf=3,splitter=\"best\")\n",
    "gen_model(m2,x_train,x_test,y_train,y_test)"
   ]
  },
  {
   "cell_type": "code",
   "execution_count": 50,
   "id": "ad4d99f2",
   "metadata": {},
   "outputs": [],
   "source": [
    "y_pred=m2.predict(x_test)"
   ]
  },
  {
   "cell_type": "code",
   "execution_count": 51,
   "id": "21742e32",
   "metadata": {},
   "outputs": [
    {
     "name": "stderr",
     "output_type": "stream",
     "text": [
      "C:\\Users\\Sanjeev boora\\anaconda3\\lib\\site-packages\\seaborn\\distributions.py:2619: FutureWarning: `distplot` is a deprecated function and will be removed in a future version. Please adapt your code to use either `displot` (a figure-level function with similar flexibility) or `histplot` (an axes-level function for histograms).\n",
      "  warnings.warn(msg, FutureWarning)\n"
     ]
    },
    {
     "data": {
      "image/png": "[encoded data removed]",
      "text/plain": [
       "<Figure size 432x288 with 1 Axes>"
      ]
     },
     "metadata": {
      "needs_background": "light"
     },
     "output_type": "display_data"
    },
    {
     "data": {
      "image/png": "[encoded data removed]",
      "text/plain": [
       "<Figure size 432x288 with 1 Axes>"
      ]
     },
     "metadata": {
      "needs_background": "light"
     },
     "output_type": "display_data"
    }
   ],
   "source": [
    "sns.distplot(y_test-y_pred)\n",
    "plt.show()\n",
    "\n",
    "plt.scatter(y_test, y_pred, alpha = 0.5)\n",
    "plt.xlabel(\"y_test\")\n",
    "plt.ylabel(\"y_pred\")\n",
    "plt.show()"
   ]
  },
  {
   "cell_type": "code",
   "execution_count": 52,
   "id": "45906d6c",
   "metadata": {
    "scrolled": true
   },
   "outputs": [
    {
     "data": {
      "image/png": "[encoded data removed]",
      "text/plain": [
       "<Figure size 720x360 with 1 Axes>"
      ]
     },
     "metadata": {
      "needs_background": "light"
     },
     "output_type": "display_data"
    }
   ],
   "source": [
    "df10_check = pd.DataFrame({'Actual': y_test, 'Predicted': y_pred})\n",
    "df10_check = df10_check.head(25)\n",
    "#round(df_check,2)\n",
    "df10_check.plot(kind='bar',figsize=(10,5))\n",
    "plt.grid(which='major', linestyle='-', linewidth='0.5', color='green')\n",
    "plt.title('Performance of Decesion Tree')\n",
    "plt.ylabel('Mean Squared Log Error')\n",
    "plt.show()"
   ]
  },
  {
   "cell_type": "markdown",
   "id": "5dd9b179",
   "metadata": {},
   "source": [
    "### Features Importance of DTReg"
   ]
  },
  {
   "cell_type": "code",
   "execution_count": 53,
   "id": "0faefa73",
   "metadata": {},
   "outputs": [
    {
     "data": {
      "image/png": "[encoded data removed]",
      "text/plain": [
       "<Figure size 432x432 with 1 Axes>"
      ]
     },
     "metadata": {},
     "output_type": "display_data"
    }
   ],
   "source": [
    "importances=m2.feature_importances_\n",
    "features=x_train.columns\n",
    "# Set the style\n",
    "plt.style.use('fivethirtyeight')\n",
    "# list of x locations for plotting\n",
    "x_values = list(range(len(importances)))\n",
    "# Make a bar chart\n",
    "plt.figure(figsize=(6,6))\n",
    "plt.bar(x_values, importances, orientation = ('vertical'))\n",
    "# Tick labels for x axis\n",
    "plt.xticks(x_values, features, rotation=(90))\n",
    "# Axis labels and title\n",
    "plt.ylabel('Importance'); \n",
    "plt.xlabel('Variable/Features'); \n",
    "plt.title('Decesion Tree Variables Importance')\n",
    "plt.tight_layout()\n",
    "plt.show()"
   ]
  },
  {
   "cell_type": "code",
   "execution_count": null,
   "id": "f1f0e28f",
   "metadata": {},
   "outputs": [],
   "source": []
  },
  {
   "cell_type": "code",
   "execution_count": null,
   "id": "61734bf4",
   "metadata": {},
   "outputs": [],
   "source": []
  },
  {
   "cell_type": "markdown",
   "id": "b9b0c8eb",
   "metadata": {},
   "source": [
    "## Random Forest"
   ]
  },
  {
   "cell_type": "code",
   "execution_count": 54,
   "id": "ace413d5",
   "metadata": {},
   "outputs": [
    {
     "name": "stdout",
     "output_type": "stream",
     "text": [
      "Training Score 0.9786054519234183\n",
      "Testing Score 0.8829505385545663\n",
      "MAE 65319.392802540104\n",
      "MSE 14608422642.63998\n",
      "RMSE 120865.30785399085\n",
      "R2 Score 0.8829505385545663\n"
     ]
    },
    {
     "name": "stderr",
     "output_type": "stream",
     "text": [
      "C:\\Users\\Sanjeev boora\\anaconda3\\lib\\site-packages\\sklearn\\ensemble\\_forest.py:400: FutureWarning: Criterion 'mse' was deprecated in v1.0 and will be removed in version 1.2. Use `criterion='squared_error'` which is equivalent.\n",
      "  warn(\n"
     ]
    }
   ],
   "source": [
    "m3 = RandomForestRegressor(criterion=\"mse\",n_estimators=60,max_depth=12,)\n",
    "gen_model(m3,x_train,x_test,y_train,y_test)"
   ]
  },
  {
   "cell_type": "code",
   "execution_count": 55,
   "id": "fe616d27",
   "metadata": {
    "scrolled": true
   },
   "outputs": [
    {
     "name": "stdout",
     "output_type": "stream",
     "text": [
      "Index(['Company', 'Car_Name', 'Owner', 'mnf_year', 'Fuel_Type', 'kms_driven'], dtype='object') /n [0.2597339  0.12808091 0.00355639 0.28702983 0.2317643  0.08983467]\n"
     ]
    }
   ],
   "source": [
    "print(x_train.columns,\"/n\",m3.feature_importances_)"
   ]
  },
  {
   "cell_type": "code",
   "execution_count": 56,
   "id": "4264e9c5",
   "metadata": {},
   "outputs": [],
   "source": [
    "y_pred=m3.predict(x_test)"
   ]
  },
  {
   "cell_type": "code",
   "execution_count": 57,
   "id": "39da06f7",
   "metadata": {},
   "outputs": [
    {
     "name": "stderr",
     "output_type": "stream",
     "text": [
      "C:\\Users\\Sanjeev boora\\anaconda3\\lib\\site-packages\\seaborn\\distributions.py:2619: FutureWarning: `distplot` is a deprecated function and will be removed in a future version. Please adapt your code to use either `displot` (a figure-level function with similar flexibility) or `histplot` (an axes-level function for histograms).\n",
      "  warnings.warn(msg, FutureWarning)\n"
     ]
    },
    {
     "data": {
      "image/png": "[encoded data removed]",
      "text/plain": [
       "<Figure size 432x288 with 1 Axes>"
      ]
     },
     "metadata": {},
     "output_type": "display_data"
    },
    {
     "data": {
      "image/png": "[encoded data removed]",
      "text/plain": [
       "<Figure size 432x288 with 1 Axes>"
      ]
     },
     "metadata": {},
     "output_type": "display_data"
    }
   ],
   "source": [
    "sns.distplot(y_test-y_pred)\n",
    "plt.show()\n",
    "\n",
    "plt.scatter(y_test, y_pred, alpha = 0.5)\n",
    "plt.xlabel(\"y_test\")\n",
    "plt.ylabel(\"y_pred\")\n",
    "plt.show()"
   ]
  },
  {
   "cell_type": "code",
   "execution_count": 58,
   "id": "3d1b9405",
   "metadata": {
    "scrolled": true
   },
   "outputs": [
    {
     "data": {
      "image/png": "[encoded data removed]",
      "text/plain": [
       "<Figure size 720x360 with 1 Axes>"
      ]
     },
     "metadata": {},
     "output_type": "display_data"
    }
   ],
   "source": [
    "df10_check = pd.DataFrame({'Actual': y_test, 'Predicted': y_pred})\n",
    "df10_check = df10_check.head(25)\n",
    "#round(df_check,2)\n",
    "df10_check.plot(kind='bar',figsize=(10,5))\n",
    "plt.grid(which='major', linestyle='-', linewidth='0.5', color='green')\n",
    "plt.title('Performance of Random Forest')\n",
    "plt.ylabel('Mean Squared Log Error')\n",
    "plt.show()"
   ]
  },
  {
   "cell_type": "markdown",
   "id": "c1e112f7",
   "metadata": {},
   "source": [
    "### Features Importance of RFReg"
   ]
  },
  {
   "cell_type": "code",
   "execution_count": 59,
   "id": "06917433",
   "metadata": {},
   "outputs": [
    {
     "data": {
      "image/png": "[encoded data removed]",
      "text/plain": [
       "<Figure size 432x432 with 1 Axes>"
      ]
     },
     "metadata": {},
     "output_type": "display_data"
    }
   ],
   "source": [
    "importances=m3.feature_importances_\n",
    "features=x_train.columns\n",
    "# Set the style\n",
    "plt.style.use('fivethirtyeight')\n",
    "# list of x locations for plotting\n",
    "x_values = list(range(len(importances)))\n",
    "# Make a bar chart\n",
    "plt.figure(figsize=(6,6))\n",
    "plt.bar(x_values, importances, orientation = ('vertical'))\n",
    "# Tick labels for x axis\n",
    "plt.xticks(x_values, features, rotation=(90))\n",
    "# Axis labels and title\n",
    "plt.ylabel('Importance'); \n",
    "plt.xlabel('Variable/Features'); \n",
    "plt.title('Random Forest Variables Importance')\n",
    "plt.tight_layout()\n",
    "plt.show()"
   ]
  },
  {
   "cell_type": "code",
   "execution_count": null,
   "id": "12566475",
   "metadata": {},
   "outputs": [],
   "source": []
  },
  {
   "cell_type": "markdown",
   "id": "05493806",
   "metadata": {},
   "source": [
    "## XGBRegressor"
   ]
  },
  {
   "cell_type": "code",
   "execution_count": 60,
   "id": "42c5ba34",
   "metadata": {},
   "outputs": [
    {
     "name": "stdout",
     "output_type": "stream",
     "text": [
      "[21:44:21] WARNING: C:/Users/Administrator/workspace/xgboost-win64_release_1.6.0/src/objective/regression_obj.cu:203: reg:linear is now deprecated in favor of reg:squarederror.\n",
      "Training Score 0.9960245507148214\n",
      "Testing Score 0.9275437533848084\n",
      "MAE 48158.66\n",
      "MSE 9042941851.958124\n",
      "RMSE 95094.38391386803\n",
      "R2 Score 0.9275437533848084\n"
     ]
    }
   ],
   "source": [
    "m4 = XGBRegressor(base_score=0.5, booster='gbtree',n_estimators=100, learning_rate=0.1,gamma=0.5,\n",
    "                 reg_lambda=0.4,objective='reg:linear')\n",
    "gen_model(m4,x_train,x_test,y_train,y_test)"
   ]
  },
  {
   "cell_type": "code",
   "execution_count": 61,
   "id": "334821e5",
   "metadata": {},
   "outputs": [],
   "source": [
    "y_pred=m4.predict(x_test)"
   ]
  },
  {
   "cell_type": "code",
   "execution_count": 62,
   "id": "ec3c027e",
   "metadata": {},
   "outputs": [
    {
     "name": "stderr",
     "output_type": "stream",
     "text": [
      "C:\\Users\\Sanjeev boora\\anaconda3\\lib\\site-packages\\seaborn\\distributions.py:2619: FutureWarning: `distplot` is a deprecated function and will be removed in a future version. Please adapt your code to use either `displot` (a figure-level function with similar flexibility) or `histplot` (an axes-level function for histograms).\n",
      "  warnings.warn(msg, FutureWarning)\n"
     ]
    },
    {
     "data": {
      "image/png": "[encoded data removed]",
      "text/plain": [
       "<Figure size 432x288 with 1 Axes>"
      ]
     },
     "metadata": {},
     "output_type": "display_data"
    },
    {
     "data": {
      "image/png": "[encoded data removed]",
      "text/plain": [
       "<Figure size 432x288 with 1 Axes>"
      ]
     },
     "metadata": {},
     "output_type": "display_data"
    }
   ],
   "source": [
    "sns.distplot(y_test-y_pred)\n",
    "plt.show()\n",
    "\n",
    "plt.scatter(y_test, y_pred, alpha = 0.5)\n",
    "plt.xlabel(\"y_test\")\n",
    "plt.ylabel(\"y_pred\")\n",
    "plt.show()"
   ]
  },
  {
   "cell_type": "code",
   "execution_count": 63,
   "id": "a4348fb6",
   "metadata": {},
   "outputs": [
    {
     "data": {
      "image/png": "[encoded data removed]",
      "text/plain": [
       "<Figure size 720x360 with 1 Axes>"
      ]
     },
     "metadata": {},
     "output_type": "display_data"
    }
   ],
   "source": [
    "df10_check = pd.DataFrame({'Actual': y_test, 'Predicted': y_pred})\n",
    "df10_check = df10_check.head(25)\n",
    "#round(df_check,2)\n",
    "df10_check.plot(kind='bar',figsize=(10,5))\n",
    "plt.grid(which='major', linestyle='-', linewidth='0.5', color='green')\n",
    "plt.title('Performance of XGBRegressor')\n",
    "plt.ylabel('Mean Squared Log Error')\n",
    "plt.show()"
   ]
  },
  {
   "cell_type": "markdown",
   "id": "fc674c34",
   "metadata": {},
   "source": [
    "### Features Importance of XGBReg"
   ]
  },
  {
   "cell_type": "code",
   "execution_count": 64,
   "id": "e3666c64",
   "metadata": {},
   "outputs": [
    {
     "data": {
      "image/png": "[encoded data removed]",
      "text/plain": [
       "<Figure size 432x432 with 1 Axes>"
      ]
     },
     "metadata": {},
     "output_type": "display_data"
    }
   ],
   "source": [
    "importances=m4.feature_importances_\n",
    "features=x_train.columns\n",
    "# Set the style\n",
    "plt.style.use('fivethirtyeight')\n",
    "# list of x locations for plotting\n",
    "x_values = list(range(len(importances)))\n",
    "# Make a bar chart\n",
    "plt.figure(figsize=(6,6))\n",
    "plt.bar(x_values, importances, orientation = ('vertical'))\n",
    "# Tick labels for x axis\n",
    "plt.xticks(x_values, features, rotation=(90))\n",
    "# Axis labels and title\n",
    "plt.ylabel('Importance'); \n",
    "plt.xlabel('Variable/Features'); \n",
    "plt.title('XGBRegressor Variables Importance')\n",
    "plt.tight_layout()\n",
    "plt.show()"
   ]
  },
  {
   "cell_type": "markdown",
   "id": "857af02b",
   "metadata": {},
   "source": [
    "#### Overall Performance"
   ]
  },
  {
   "cell_type": "code",
   "execution_count": 65,
   "id": "04aa2df8",
   "metadata": {},
   "outputs": [
    {
     "data": {
      "text/html": [
       "<div>\n",
       "<style scoped>\n",
       "    .dataframe tbody tr th:only-of-type {\n",
       "        vertical-align: middle;\n",
       "    }\n",
       "\n",
       "    .dataframe tbody tr th {\n",
       "        vertical-align: top;\n",
       "    }\n",
       "\n",
       "    .dataframe thead th {\n",
       "        text-align: right;\n",
       "    }\n",
       "</style>\n",
       "<table border=\"1\" class=\"dataframe\">\n",
       "  <thead>\n",
       "    <tr style=\"text-align: right;\">\n",
       "      <th></th>\n",
       "      <th>Linear Reg</th>\n",
       "      <th>DT Reg</th>\n",
       "      <th>RF Reg</th>\n",
       "      <th>XGBReg</th>\n",
       "    </tr>\n",
       "  </thead>\n",
       "  <tbody>\n",
       "    <tr>\n",
       "      <th>0</th>\n",
       "      <td>176817.48328413806</td>\n",
       "      <td>75913.08359140858</td>\n",
       "      <td>59720.05280167958</td>\n",
       "      <td>48158.66</td>\n",
       "    </tr>\n",
       "    <tr>\n",
       "      <th>1</th>\n",
       "      <td>58351004508.12649</td>\n",
       "      <td>18399477179.676876</td>\n",
       "      <td>12040375302.821577</td>\n",
       "      <td>9042941851.958124</td>\n",
       "    </tr>\n",
       "    <tr>\n",
       "      <th>2</th>\n",
       "      <td>241559.52580704924</td>\n",
       "      <td>135644.67250753668</td>\n",
       "      <td>109728.64394870456</td>\n",
       "      <td>95094.38391386803</td>\n",
       "    </tr>\n",
       "    <tr>\n",
       "      <th>3</th>\n",
       "      <td>0.5324646733220476</td>\n",
       "      <td>0.8525748503146041</td>\n",
       "      <td>0.9035269255776762</td>\n",
       "      <td>0.9275437533848084</td>\n",
       "    </tr>\n",
       "  </tbody>\n",
       "</table>\n",
       "</div>"
      ],
      "text/plain": [
       "            Linear Reg               DT Reg              RF Reg  \\\n",
       "0   176817.48328413806    75913.08359140858   59720.05280167958   \n",
       "1    58351004508.12649   18399477179.676876  12040375302.821577   \n",
       "2   241559.52580704924   135644.67250753668  109728.64394870456   \n",
       "3   0.5324646733220476   0.8525748503146041  0.9035269255776762   \n",
       "\n",
       "               XGBReg  \n",
       "0            48158.66  \n",
       "1   9042941851.958124  \n",
       "2   95094.38391386803  \n",
       "3  0.9275437533848084  "
      ]
     },
     "execution_count": 65,
     "metadata": {},
     "output_type": "execute_result"
    }
   ],
   "source": [
    "overall_performance={'Linear Reg':[ '176817.48328413806', '58351004508.12649',' 241559.52580704924',' 0.5324646733220476'],\n",
    "               'DT Reg':['75913.08359140858','18399477179.676876', '135644.67250753668',' 0.8525748503146041'],\n",
    "               'RF Reg':['59720.05280167958','12040375302.821577','109728.64394870456','0.9035269255776762'],\n",
    "               'XGBReg':['48158.66','9042941851.958124','95094.38391386803','0.9275437533848084']}\n",
    "\n",
    "df11=pd.DataFrame(overall_performance)\n",
    "\n",
    "df11"
   ]
  },
  {
   "cell_type": "code",
   "execution_count": 66,
   "id": "93f7c33f",
   "metadata": {},
   "outputs": [],
   "source": [
    "df11 = pd.DataFrame(overall_performance, index=['Mae',\n",
    "                               'Mse',\n",
    "                               'Rmse',\n",
    "                               'R2 Score'])"
   ]
  },
  {
   "cell_type": "code",
   "execution_count": 67,
   "id": "8f00f379",
   "metadata": {},
   "outputs": [
    {
     "data": {
      "text/html": [
       "<div>\n",
       "<style scoped>\n",
       "    .dataframe tbody tr th:only-of-type {\n",
       "        vertical-align: middle;\n",
       "    }\n",
       "\n",
       "    .dataframe tbody tr th {\n",
       "        vertical-align: top;\n",
       "    }\n",
       "\n",
       "    .dataframe thead th {\n",
       "        text-align: right;\n",
       "    }\n",
       "</style>\n",
       "<table border=\"1\" class=\"dataframe\">\n",
       "  <thead>\n",
       "    <tr style=\"text-align: right;\">\n",
       "      <th></th>\n",
       "      <th>Linear Reg</th>\n",
       "      <th>DT Reg</th>\n",
       "      <th>RF Reg</th>\n",
       "      <th>XGBReg</th>\n",
       "    </tr>\n",
       "  </thead>\n",
       "  <tbody>\n",
       "    <tr>\n",
       "      <th>Mae</th>\n",
       "      <td>176817.48328413806</td>\n",
       "      <td>75913.08359140858</td>\n",
       "      <td>59720.05280167958</td>\n",
       "      <td>48158.66</td>\n",
       "    </tr>\n",
       "    <tr>\n",
       "      <th>Mse</th>\n",
       "      <td>58351004508.12649</td>\n",
       "      <td>18399477179.676876</td>\n",
       "      <td>12040375302.821577</td>\n",
       "      <td>9042941851.958124</td>\n",
       "    </tr>\n",
       "    <tr>\n",
       "      <th>Rmse</th>\n",
       "      <td>241559.52580704924</td>\n",
       "      <td>135644.67250753668</td>\n",
       "      <td>109728.64394870456</td>\n",
       "      <td>95094.38391386803</td>\n",
       "    </tr>\n",
       "    <tr>\n",
       "      <th>R2 Score</th>\n",
       "      <td>0.5324646733220476</td>\n",
       "      <td>0.8525748503146041</td>\n",
       "      <td>0.9035269255776762</td>\n",
       "      <td>0.9275437533848084</td>\n",
       "    </tr>\n",
       "  </tbody>\n",
       "</table>\n",
       "</div>"
      ],
      "text/plain": [
       "                   Linear Reg               DT Reg              RF Reg  \\\n",
       "Mae        176817.48328413806    75913.08359140858   59720.05280167958   \n",
       "Mse         58351004508.12649   18399477179.676876  12040375302.821577   \n",
       "Rmse       241559.52580704924   135644.67250753668  109728.64394870456   \n",
       "R2 Score   0.5324646733220476   0.8525748503146041  0.9035269255776762   \n",
       "\n",
       "                      XGBReg  \n",
       "Mae                 48158.66  \n",
       "Mse        9042941851.958124  \n",
       "Rmse       95094.38391386803  \n",
       "R2 Score  0.9275437533848084  "
      ]
     },
     "execution_count": 67,
     "metadata": {},
     "output_type": "execute_result"
    }
   ],
   "source": [
    "df11"
   ]
  },
  {
   "cell_type": "markdown",
   "id": "4000dbe7",
   "metadata": {},
   "source": [
    "#### From above results we have find that XGBRegressor is the better R2Score or  accuracy so XGBReg is best fit model with better accuracy."
   ]
  },
  {
   "cell_type": "code",
   "execution_count": 68,
   "id": "e44777c5",
   "metadata": {},
   "outputs": [],
   "source": [
    "import pickle\n",
    "  \n",
    "# open a file, where you ant to store the data \n",
    "\n",
    "file = open('random_forest_regression_model.pkl', 'wb')\n",
    "\n",
    "# dump information to that file\n",
    "pickle.dump(m3, file)"
   ]
  },
  {
   "cell_type": "code",
   "execution_count": null,
   "id": "06362ea2",
   "metadata": {},
   "outputs": [],
   "source": []
  },
  {
   "cell_type": "code",
   "execution_count": null,
   "id": "08809851",
   "metadata": {},
   "outputs": [],
   "source": []
  },
  {
   "cell_type": "code",
   "execution_count": 69,
   "id": "3c62f44c",
   "metadata": {},
   "outputs": [
    {
     "name": "stdout",
     "output_type": "stream",
     "text": [
      "Requirement already satisfied: powerbiclient in c:\\users\\sanjeev boora\\anaconda3\\lib\\site-packages (2.0.1)\n",
      "Requirement already satisfied: jupyter-ui-poll>=0.1.2 in c:\\users\\sanjeev boora\\anaconda3\\lib\\site-packages (from powerbiclient) (0.2.1)\n",
      "Requirement already satisfied: requests>=2.25.1 in c:\\users\\sanjeev boora\\anaconda3\\lib\\site-packages (from powerbiclient) (2.26.0)\n",
      "Requirement already satisfied: ipywidgets>=7.0.0 in c:\\users\\sanjeev boora\\anaconda3\\lib\\site-packages (from powerbiclient) (7.6.5)\n",
      "Requirement already satisfied: msal>=1.8.0 in c:\\users\\sanjeev boora\\anaconda3\\lib\\site-packages (from powerbiclient) (1.20.0)\n",
      "Requirement already satisfied: ipython>=4.0.0 in c:\\users\\sanjeev boora\\anaconda3\\lib\\site-packages (from ipywidgets>=7.0.0->powerbiclient) (7.29.0)\n",
      "Requirement already satisfied: nbformat>=4.2.0 in c:\\users\\sanjeev boora\\anaconda3\\lib\\site-packages (from ipywidgets>=7.0.0->powerbiclient) (5.1.3)\n",
      "Requirement already satisfied: traitlets>=4.3.1 in c:\\users\\sanjeev boora\\anaconda3\\lib\\site-packages (from ipywidgets>=7.0.0->powerbiclient) (5.1.0)\n",
      "Requirement already satisfied: ipykernel>=4.5.1 in c:\\users\\sanjeev boora\\anaconda3\\lib\\site-packages (from ipywidgets>=7.0.0->powerbiclient) (6.4.1)\n",
      "Requirement already satisfied: jupyterlab-widgets>=1.0.0 in c:\\users\\sanjeev boora\\anaconda3\\lib\\site-packages (from ipywidgets>=7.0.0->powerbiclient) (1.0.0)\n",
      "Requirement already satisfied: widgetsnbextension~=3.5.0 in c:\\users\\sanjeev boora\\anaconda3\\lib\\site-packages (from ipywidgets>=7.0.0->powerbiclient) (3.5.1)\n",
      "Requirement already satisfied: ipython-genutils~=0.2.0 in c:\\users\\sanjeev boora\\anaconda3\\lib\\site-packages (from ipywidgets>=7.0.0->powerbiclient) (0.2.0)\n",
      "Requirement already satisfied: debugpy<2.0,>=1.0.0 in c:\\users\\sanjeev boora\\anaconda3\\lib\\site-packages (from ipykernel>=4.5.1->ipywidgets>=7.0.0->powerbiclient) (1.4.1)\n",
      "Requirement already satisfied: tornado<7.0,>=4.2 in c:\\users\\sanjeev boora\\anaconda3\\lib\\site-packages (from ipykernel>=4.5.1->ipywidgets>=7.0.0->powerbiclient) (6.1)\n",
      "Requirement already satisfied: matplotlib-inline<0.2.0,>=0.1.0 in c:\\users\\sanjeev boora\\anaconda3\\lib\\site-packages (from ipykernel>=4.5.1->ipywidgets>=7.0.0->powerbiclient) (0.1.2)\n",
      "Requirement already satisfied: jupyter-client<8.0 in c:\\users\\sanjeev boora\\anaconda3\\lib\\site-packages (from ipykernel>=4.5.1->ipywidgets>=7.0.0->powerbiclient) (6.1.12)\n",
      "Requirement already satisfied: backcall in c:\\users\\sanjeev boora\\anaconda3\\lib\\site-packages (from ipython>=4.0.0->ipywidgets>=7.0.0->powerbiclient) (0.2.0)\n",
      "Requirement already satisfied: pygments in c:\\users\\sanjeev boora\\anaconda3\\lib\\site-packages (from ipython>=4.0.0->ipywidgets>=7.0.0->powerbiclient) (2.10.0)\n",
      "Requirement already satisfied: prompt-toolkit!=3.0.0,!=3.0.1,<3.1.0,>=2.0.0 in c:\\users\\sanjeev boora\\anaconda3\\lib\\site-packages (from ipython>=4.0.0->ipywidgets>=7.0.0->powerbiclient) (3.0.20)\n",
      "Requirement already satisfied: setuptools>=18.5 in c:\\users\\sanjeev boora\\anaconda3\\lib\\site-packages (from ipython>=4.0.0->ipywidgets>=7.0.0->powerbiclient) (58.0.4)\n",
      "Requirement already satisfied: decorator in c:\\users\\sanjeev boora\\anaconda3\\lib\\site-packages (from ipython>=4.0.0->ipywidgets>=7.0.0->powerbiclient) (5.1.0)\n",
      "Requirement already satisfied: colorama in c:\\users\\sanjeev boora\\anaconda3\\lib\\site-packages (from ipython>=4.0.0->ipywidgets>=7.0.0->powerbiclient) (0.4.4)\n",
      "Requirement already satisfied: pickleshare in c:\\users\\sanjeev boora\\anaconda3\\lib\\site-packages (from ipython>=4.0.0->ipywidgets>=7.0.0->powerbiclient) (0.7.5)\n",
      "Requirement already satisfied: jedi>=0.16 in c:\\users\\sanjeev boora\\anaconda3\\lib\\site-packages (from ipython>=4.0.0->ipywidgets>=7.0.0->powerbiclient) (0.18.0)\n",
      "Requirement already satisfied: parso<0.9.0,>=0.8.0 in c:\\users\\sanjeev boora\\anaconda3\\lib\\site-packages (from jedi>=0.16->ipython>=4.0.0->ipywidgets>=7.0.0->powerbiclient) (0.8.2)\n",
      "Requirement already satisfied: python-dateutil>=2.1 in c:\\users\\sanjeev boora\\anaconda3\\lib\\site-packages (from jupyter-client<8.0->ipykernel>=4.5.1->ipywidgets>=7.0.0->powerbiclient) (2.8.2)\n",
      "Requirement already satisfied: pyzmq>=13 in c:\\users\\sanjeev boora\\anaconda3\\lib\\site-packages (from jupyter-client<8.0->ipykernel>=4.5.1->ipywidgets>=7.0.0->powerbiclient) (22.2.1)\n",
      "Requirement already satisfied: jupyter-core>=4.6.0 in c:\\users\\sanjeev boora\\anaconda3\\lib\\site-packages (from jupyter-client<8.0->ipykernel>=4.5.1->ipywidgets>=7.0.0->powerbiclient) (4.8.1)\n",
      "Requirement already satisfied: pywin32>=1.0 in c:\\users\\sanjeev boora\\anaconda3\\lib\\site-packages (from jupyter-core>=4.6.0->jupyter-client<8.0->ipykernel>=4.5.1->ipywidgets>=7.0.0->powerbiclient) (228)\n",
      "Requirement already satisfied: PyJWT[crypto]<3,>=1.0.0 in c:\\users\\sanjeev boora\\anaconda3\\lib\\site-packages (from msal>=1.8.0->powerbiclient) (2.1.0)\n",
      "Requirement already satisfied: cryptography<41,>=0.6 in c:\\users\\sanjeev boora\\anaconda3\\lib\\site-packages (from msal>=1.8.0->powerbiclient) (3.4.8)\n",
      "Requirement already satisfied: cffi>=1.12 in c:\\users\\sanjeev boora\\anaconda3\\lib\\site-packages (from cryptography<41,>=0.6->msal>=1.8.0->powerbiclient) (1.14.6)\n",
      "Requirement already satisfied: pycparser in c:\\users\\sanjeev boora\\anaconda3\\lib\\site-packages (from cffi>=1.12->cryptography<41,>=0.6->msal>=1.8.0->powerbiclient) (2.20)\n",
      "Requirement already satisfied: jsonschema!=2.5.0,>=2.4 in c:\\users\\sanjeev boora\\anaconda3\\lib\\site-packages (from nbformat>=4.2.0->ipywidgets>=7.0.0->powerbiclient) (3.2.0)\n",
      "Requirement already satisfied: attrs>=17.4.0 in c:\\users\\sanjeev boora\\anaconda3\\lib\\site-packages (from jsonschema!=2.5.0,>=2.4->nbformat>=4.2.0->ipywidgets>=7.0.0->powerbiclient) (21.2.0)\n",
      "Requirement already satisfied: six>=1.11.0 in c:\\users\\sanjeev boora\\anaconda3\\lib\\site-packages (from jsonschema!=2.5.0,>=2.4->nbformat>=4.2.0->ipywidgets>=7.0.0->powerbiclient) (1.16.0)\n",
      "Requirement already satisfied: pyrsistent>=0.14.0 in c:\\users\\sanjeev boora\\anaconda3\\lib\\site-packages (from jsonschema!=2.5.0,>=2.4->nbformat>=4.2.0->ipywidgets>=7.0.0->powerbiclient) (0.18.0)\n",
      "Requirement already satisfied: wcwidth in c:\\users\\sanjeev boora\\anaconda3\\lib\\site-packages (from prompt-toolkit!=3.0.0,!=3.0.1,<3.1.0,>=2.0.0->ipython>=4.0.0->ipywidgets>=7.0.0->powerbiclient) (0.2.5)\n",
      "Requirement already satisfied: idna<4,>=2.5 in c:\\users\\sanjeev boora\\anaconda3\\lib\\site-packages (from requests>=2.25.1->powerbiclient) (3.2)\n",
      "Requirement already satisfied: urllib3<1.27,>=1.21.1 in c:\\users\\sanjeev boora\\anaconda3\\lib\\site-packages (from requests>=2.25.1->powerbiclient) (1.26.7)\n",
      "Requirement already satisfied: charset-normalizer~=2.0.0 in c:\\users\\sanjeev boora\\anaconda3\\lib\\site-packages (from requests>=2.25.1->powerbiclient) (2.0.4)\n",
      "Requirement already satisfied: certifi>=2017.4.17 in c:\\users\\sanjeev boora\\anaconda3\\lib\\site-packages (from requests>=2.25.1->powerbiclient) (2021.10.8)\n",
      "Requirement already satisfied: notebook>=4.4.1 in c:\\users\\sanjeev boora\\anaconda3\\lib\\site-packages (from widgetsnbextension~=3.5.0->ipywidgets>=7.0.0->powerbiclient) (6.4.5)\n",
      "Requirement already satisfied: terminado>=0.8.3 in c:\\users\\sanjeev boora\\anaconda3\\lib\\site-packages (from notebook>=4.4.1->widgetsnbextension~=3.5.0->ipywidgets>=7.0.0->powerbiclient) (0.9.4)\n",
      "Requirement already satisfied: jinja2 in c:\\users\\sanjeev boora\\anaconda3\\lib\\site-packages (from notebook>=4.4.1->widgetsnbextension~=3.5.0->ipywidgets>=7.0.0->powerbiclient) (3.1.2)\n",
      "Requirement already satisfied: nbconvert in c:\\users\\sanjeev boora\\appdata\\roaming\\python\\python39\\site-packages (from notebook>=4.4.1->widgetsnbextension~=3.5.0->ipywidgets>=7.0.0->powerbiclient) (6.5.0)\n",
      "Requirement already satisfied: argon2-cffi in c:\\users\\sanjeev boora\\anaconda3\\lib\\site-packages (from notebook>=4.4.1->widgetsnbextension~=3.5.0->ipywidgets>=7.0.0->powerbiclient) (20.1.0)\n",
      "Requirement already satisfied: prometheus-client in c:\\users\\sanjeev boora\\anaconda3\\lib\\site-packages (from notebook>=4.4.1->widgetsnbextension~=3.5.0->ipywidgets>=7.0.0->powerbiclient) (0.11.0)\n",
      "Requirement already satisfied: Send2Trash>=1.5.0 in c:\\users\\sanjeev boora\\anaconda3\\lib\\site-packages (from notebook>=4.4.1->widgetsnbextension~=3.5.0->ipywidgets>=7.0.0->powerbiclient) (1.8.0)\n",
      "Requirement already satisfied: pywinpty>=0.5 in c:\\users\\sanjeev boora\\anaconda3\\lib\\site-packages (from terminado>=0.8.3->notebook>=4.4.1->widgetsnbextension~=3.5.0->ipywidgets>=7.0.0->powerbiclient) (0.5.7)\n",
      "Requirement already satisfied: MarkupSafe>=2.0 in c:\\users\\sanjeev boora\\anaconda3\\lib\\site-packages (from jinja2->notebook>=4.4.1->widgetsnbextension~=3.5.0->ipywidgets>=7.0.0->powerbiclient) (2.1.1)\n",
      "Requirement already satisfied: entrypoints>=0.2.2 in c:\\users\\sanjeev boora\\anaconda3\\lib\\site-packages (from nbconvert->notebook>=4.4.1->widgetsnbextension~=3.5.0->ipywidgets>=7.0.0->powerbiclient) (0.3)\n",
      "Requirement already satisfied: jupyterlab-pygments in c:\\users\\sanjeev boora\\anaconda3\\lib\\site-packages (from nbconvert->notebook>=4.4.1->widgetsnbextension~=3.5.0->ipywidgets>=7.0.0->powerbiclient) (0.1.2)\n",
      "Requirement already satisfied: bleach in c:\\users\\sanjeev boora\\anaconda3\\lib\\site-packages (from nbconvert->notebook>=4.4.1->widgetsnbextension~=3.5.0->ipywidgets>=7.0.0->powerbiclient) (4.0.0)\n",
      "Requirement already satisfied: packaging in c:\\users\\sanjeev boora\\anaconda3\\lib\\site-packages (from nbconvert->notebook>=4.4.1->widgetsnbextension~=3.5.0->ipywidgets>=7.0.0->powerbiclient) (21.0)\n",
      "Requirement already satisfied: pandocfilters>=1.4.1 in c:\\users\\sanjeev boora\\anaconda3\\lib\\site-packages (from nbconvert->notebook>=4.4.1->widgetsnbextension~=3.5.0->ipywidgets>=7.0.0->powerbiclient) (1.4.3)\n",
      "Requirement already satisfied: beautifulsoup4 in c:\\users\\sanjeev boora\\anaconda3\\lib\\site-packages (from nbconvert->notebook>=4.4.1->widgetsnbextension~=3.5.0->ipywidgets>=7.0.0->powerbiclient) (4.10.0)\n",
      "Requirement already satisfied: defusedxml in c:\\users\\sanjeev boora\\anaconda3\\lib\\site-packages (from nbconvert->notebook>=4.4.1->widgetsnbextension~=3.5.0->ipywidgets>=7.0.0->powerbiclient) (0.7.1)\n",
      "Requirement already satisfied: mistune<2,>=0.8.1 in c:\\users\\sanjeev boora\\anaconda3\\lib\\site-packages (from nbconvert->notebook>=4.4.1->widgetsnbextension~=3.5.0->ipywidgets>=7.0.0->powerbiclient) (0.8.4)\n",
      "Requirement already satisfied: tinycss2 in c:\\users\\sanjeev boora\\appdata\\roaming\\python\\python39\\site-packages (from nbconvert->notebook>=4.4.1->widgetsnbextension~=3.5.0->ipywidgets>=7.0.0->powerbiclient) (1.1.1)\n",
      "Requirement already satisfied: nbclient>=0.5.0 in c:\\users\\sanjeev boora\\anaconda3\\lib\\site-packages (from nbconvert->notebook>=4.4.1->widgetsnbextension~=3.5.0->ipywidgets>=7.0.0->powerbiclient) (0.5.3)\n",
      "Requirement already satisfied: async-generator in c:\\users\\sanjeev boora\\anaconda3\\lib\\site-packages (from nbclient>=0.5.0->nbconvert->notebook>=4.4.1->widgetsnbextension~=3.5.0->ipywidgets>=7.0.0->powerbiclient) (1.10)\n",
      "Requirement already satisfied: nest-asyncio in c:\\users\\sanjeev boora\\anaconda3\\lib\\site-packages (from nbclient>=0.5.0->nbconvert->notebook>=4.4.1->widgetsnbextension~=3.5.0->ipywidgets>=7.0.0->powerbiclient) (1.5.1)\n",
      "Requirement already satisfied: soupsieve>1.2 in c:\\users\\sanjeev boora\\anaconda3\\lib\\site-packages (from beautifulsoup4->nbconvert->notebook>=4.4.1->widgetsnbextension~=3.5.0->ipywidgets>=7.0.0->powerbiclient) (2.2.1)\n",
      "Requirement already satisfied: webencodings in c:\\users\\sanjeev boora\\anaconda3\\lib\\site-packages (from bleach->nbconvert->notebook>=4.4.1->widgetsnbextension~=3.5.0->ipywidgets>=7.0.0->powerbiclient) (0.5.1)\n",
      "Requirement already satisfied: pyparsing>=2.0.2 in c:\\users\\sanjeev boora\\anaconda3\\lib\\site-packages (from packaging->nbconvert->notebook>=4.4.1->widgetsnbextension~=3.5.0->ipywidgets>=7.0.0->powerbiclient) (3.0.4)\n"
     ]
    },
    {
     "name": "stderr",
     "output_type": "stream",
     "text": [
      "WARNING: Ignoring invalid distribution -atplotlib (c:\\users\\sanjeev boora\\anaconda3\\lib\\site-packages)\n",
      "WARNING: Ignoring invalid distribution -atplotlib (c:\\users\\sanjeev boora\\anaconda3\\lib\\site-packages)\n",
      "WARNING: Ignoring invalid distribution -atplotlib (c:\\users\\sanjeev boora\\anaconda3\\lib\\site-packages)\n",
      "WARNING: Ignoring invalid distribution -atplotlib (c:\\users\\sanjeev boora\\anaconda3\\lib\\site-packages)\n",
      "WARNING: Ignoring invalid distribution -atplotlib (c:\\users\\sanjeev boora\\anaconda3\\lib\\site-packages)\n",
      "WARNING: Ignoring invalid distribution -atplotlib (c:\\users\\sanjeev boora\\anaconda3\\lib\\site-packages)\n"
     ]
    }
   ],
   "source": [
    "!pip install powerbiclient\n",
    "from powerbiclient import Report, models\n"
   ]
  },
  {
   "cell_type": "code",
   "execution_count": 70,
   "id": "2d4ac26b",
   "metadata": {},
   "outputs": [],
   "source": [
    "from powerbiclient import Report,models\n",
    "import cv2"
   ]
  },
  {
   "cell_type": "code",
   "execution_count": 71,
   "id": "0de0857e",
   "metadata": {},
   "outputs": [],
   "source": [
    "# Authenticate the device to embed\n",
    "from powerbiclient.authentication import DeviceCodeLoginAuthentication"
   ]
  },
  {
   "cell_type": "code",
   "execution_count": 72,
   "id": "aec292fc",
   "metadata": {
    "scrolled": true
   },
   "outputs": [
    {
     "name": "stdout",
     "output_type": "stream",
     "text": [
      "Performing device flow authentication. Please follow the instructions below.\n",
      "To sign in, use a web browser to open the page https://microsoft.com/devicelogin and enter the code SSFM79ACD to authenticate.\n",
      "\n",
      "Device flow authentication successfully completed.\n",
      "You are now logged in.\n"
     ]
    }
   ],
   "source": [
    "# Initiate device authentication\n",
    "device_auth = DeviceCodeLoginAuthentication()"
   ]
  },
  {
   "cell_type": "code",
   "execution_count": null,
   "id": "4fbecd82",
   "metadata": {},
   "outputs": [],
   "source": []
  },
  {
   "cell_type": "code",
   "execution_count": 73,
   "id": "6f28f49d",
   "metadata": {},
   "outputs": [
    {
     "ename": "NameError",
     "evalue": "name 'group_id' is not defined",
     "output_type": "error",
     "traceback": [
      "\u001b[1;31m---------------------------------------------------------------------------\u001b[0m",
      "\u001b[1;31mNameError\u001b[0m                                 Traceback (most recent call last)",
      "\u001b[1;32mC:\\Users\\SANJEE~1\\AppData\\Local\\Temp/ipykernel_37528/3422927496.py\u001b[0m in \u001b[0;36m<module>\u001b[1;34m\u001b[0m\n\u001b[1;32m----> 1\u001b[1;33m \u001b[0mreport\u001b[0m \u001b[1;33m=\u001b[0m \u001b[0mReport\u001b[0m\u001b[1;33m(\u001b[0m\u001b[0mgroup_id\u001b[0m\u001b[1;33m=\u001b[0m\u001b[0mgroup_id\u001b[0m\u001b[1;33m,\u001b[0m \u001b[0mreport_id\u001b[0m\u001b[1;33m=\u001b[0m\u001b[0mreport_id\u001b[0m\u001b[1;33m,\u001b[0m \u001b[0mauth\u001b[0m\u001b[1;33m=\u001b[0m\u001b[0mdevice_auth\u001b[0m\u001b[1;33m)\u001b[0m\u001b[1;33m\u001b[0m\u001b[1;33m\u001b[0m\u001b[0m\n\u001b[0m\u001b[0;32m      2\u001b[0m \u001b[0mreport\u001b[0m\u001b[1;33m\u001b[0m\u001b[1;33m\u001b[0m\u001b[0m\n",
      "\u001b[1;31mNameError\u001b[0m: name 'group_id' is not defined"
     ]
    }
   ],
   "source": [
    "report = Report(group_id=group_id, report_id=report_id, auth=device_auth)\n",
    "report"
   ]
  },
  {
   "cell_type": "code",
   "execution_count": null,
   "id": "5bd3aff0",
   "metadata": {},
   "outputs": [],
   "source": []
  },
  {
   "cell_type": "code",
   "execution_count": null,
   "id": "8c12fbf7",
   "metadata": {},
   "outputs": [],
   "source": [
    "img = cv2.imread(\"Dashboard.JPEG\")\n"
   ]
  },
  {
   "cell_type": "code",
   "execution_count": null,
   "id": "98fc6dfc",
   "metadata": {},
   "outputs": [],
   "source": [
    "a = cv2.imread('Dashboard.JPEG')\n",
    "a = cv2.cvtColor(a,cv2.COLOR_BGR2RGB)\n",
    "plt.imshow(a)\n",
    "plt.show()"
   ]
  },
  {
   "cell_type": "code",
   "execution_count": null,
   "id": "c70f029b",
   "metadata": {},
   "outputs": [],
   "source": []
  },
  {
   "cell_type": "code",
   "execution_count": null,
   "id": "ff4741e4",
   "metadata": {},
   "outputs": [],
   "source": []
  },
  {
   "cell_type": "code",
   "execution_count": null,
   "id": "fba82acb",
   "metadata": {},
   "outputs": [],
   "source": []
  }
 ],
 "metadata": {
  "kernelspec": {
   "display_name": "Python 3 (ipykernel)",
   "language": "python",
   "name": "python3"
  },
  "language_info": {
   "codemirror_mode": {
    "name": "ipython",
    "version": 3
   },
   "file_extension": ".py",
   "mimetype": "text/x-python",
   "name": "python",
   "nbconvert_exporter": "python",
   "pygments_lexer": "ipython3",
   "version": "3.9.7"
  }
 },
 "nbformat": 4,
 "nbformat_minor": 5
}
